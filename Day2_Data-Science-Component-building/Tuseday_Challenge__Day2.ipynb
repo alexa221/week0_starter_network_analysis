{
  "cells": [
    {
      "cell_type": "markdown",
      "metadata": {
        "id": "zDwep1K8Erxl"
      },
      "source": [
        "**Project:** Data Minining Project for  X company"
      ]
    },
    {
      "cell_type": "code",
      "execution_count": null,
      "metadata": {
        "id": "JzIu-UWIDXHw"
      },
      "outputs": [],
      "source": []
    },
    {
      "cell_type": "markdown",
      "metadata": {
        "id": "d7-ii3uyI8KY"
      },
      "source": [
        "The CRISP-DM Framework\n",
        "\n",
        "\n",
        "The CRISP-DM methodology provides a structured approach to planning a data mining project. It is a robust and well-proven methodology.\n",
        "* Business understanding (BU): Determine Business Objectives, Assess Situation, Determine Data Mining Goals, Produce Project Plan\n",
        "\n",
        "* Data understanding (DU): Collect Initial Data, Describe Data, Explore Data, Verify Data Quality\n",
        "\n",
        "* Data preparation (DP): Select Data, Clean Data, Construct Data, Integrate Data\n",
        "\n",
        "* Modeling (M): Select modeling technique, Generate Test Design, Build Model, Assess Model\n",
        "*  Evaluation (E): Evaluate Results, Review Process, Determine Next Steps\n",
        "*  Deployment (D): Plan Deployment, Plan Monitoring and Maintenance, Produce Final Report, Review Project\n",
        "\n",
        "\n",
        "References:\n",
        "\n",
        "[What is the CRISP-DM methodology?](https://www.sv-europe.com/crisp-dm-methodology/)\n",
        "\n",
        "[Introduction to CRISP DM Framework for Data Science and Machine Learning](https://www.linkedin.com/pulse/chapter-1-introduction-crisp-dm-framework-data-science-anshul-roy/)"
      ]
    },
    {
      "cell_type": "markdown",
      "metadata": {
        "id": "5lo7Ml7tMQOf"
      },
      "source": [
        "**Data Set**\n",
        "### The data is for company X which is trying to control attrition.\n",
        "### There are two sets of data: \"Existing employees\" and \"Employees who have left\". The following attributes are available for every employee.\n",
        "\n",
        "\n",
        "*   Satisfaction Level\n",
        "\n",
        "*   Last evaluation\n",
        "\n",
        "*   Number of projects\n",
        "\n",
        "*   Average monthly hours\n",
        "\n",
        "*   Time spent at the company\n",
        "*   Whether they have had a work accident\n",
        "\n",
        "\n",
        "*  Whether they have had a promotion in the last 5 years\n",
        "\n",
        "\n",
        "*   Departments (column sales)\n",
        "\n",
        "\n",
        "*   Salary\n",
        "\n",
        "\n",
        "*  Whether the employee has left\n",
        "\n",
        "\n",
        "\n",
        "\n",
        "\n",
        "\n",
        "\n",
        "\n",
        "\n",
        "\n",
        "\n",
        "\n",
        "\n",
        "\n",
        "\n",
        "\n"
      ]
    },
    {
      "cell_type": "markdown",
      "metadata": {
        "id": "sjSj2A2sSph_"
      },
      "source": [
        "**Your Role**\n",
        "\n",
        "\n",
        "*   As data science team member X company asked you to answer this two questions.\n",
        "*  What type of employees is leaving?\n",
        "\n",
        "*   Determine which employees are prone to leave next.\n",
        "\n",
        "\n",
        "\n",
        "\n"
      ]
    },
    {
      "cell_type": "markdown",
      "metadata": {
        "id": "ajdEVA7LiBUp"
      },
      "source": [
        "Business Understanding\n",
        "\n",
        "---\n",
        "\n",
        "This step mostly focuses on understanding the Business in all the different aspects. It follows the below different steps.\n",
        "\n",
        "\n",
        "\n",
        "\n",
        "* Identify the goal and frame the business problem.\n",
        "* Prepare Analytical Goal i.e. what type of performance metric and loss function to use\n",
        "* Gather information on resource, constraints, assumptions, risks etc\n",
        "* Gather information on resource, constraints, assumptions, risks etc\n",
        "*   Prepare Work Flow Chart"
      ]
    },
    {
      "cell_type": "markdown",
      "metadata": {
        "id": "J4MwiCYzj2_u"
      },
      "source": [
        "### Write the main objectives of this project in your words?\n",
        "minimum of 100 characters"
      ]
    },
    {
      "cell_type": "code",
      "execution_count": 1,
      "metadata": {
        "id": "STyLda45j1Mf"
      },
      "outputs": [],
      "source": [
        "main_objectives ='''The primary goals of this project include analyzing employee attrition patterns, identifying influential factors,\n",
        "and developing predictive models to anticipate and address future attrition risks. The focus is on understanding\n",
        "and mitigating employee turnover for effective retention strategies.\n",
        "'''"
      ]
    },
    {
      "cell_type": "code",
      "execution_count": 2,
      "metadata": {
        "id": "CuOlxLxKMOLI"
      },
      "outputs": [],
      "source": [
        "assert len(main_objectives) > 100\n",
        "### BEGIN HIDDEN TESTS\n",
        "assert len(main_objectives) > 80\n",
        "### END HIDDEN TESTS"
      ]
    },
    {
      "cell_type": "markdown",
      "metadata": {
        "id": "NyXeNxlCkbaw"
      },
      "source": [
        "### Outline the different data analysis steps you will follow to carry out the\n",
        "\n",
        "*   List item\n",
        "*   List item\n",
        "\n",
        "project"
      ]
    },
    {
      "cell_type": "code",
      "execution_count": 3,
      "metadata": {
        "id": "rC-tl8sUksQq"
      },
      "outputs": [],
      "source": [
        "dm_outline = \"\"\" 1. **Data Exploration:**\n",
        "   - Explore dataset structure, handle missing values, and review summary statistics.\n",
        "\n",
        "2. **Exploratory Data Analysis (EDA):**\n",
        "   - Visualize feature distributions and correlations.\n",
        "   - Compare metrics between employees who left and stayed.\n",
        "\n",
        "3. **Feature Importance Analysis:**\n",
        "   - Identify key features influencing attrition.\n",
        "   - Use decision trees or random forests for feature importance.\n",
        "\n",
        "4. **Predictive Modeling:**\n",
        "   - Split data into training/testing sets.\n",
        "   - Build models (e.g., logistic regression) for attrition prediction.\n",
        "   - Evaluate model performance metrics.\n",
        "\n",
        "5. **Employee Segmentation:**\n",
        "   - Segment based on characteristics (e.g., department, salary).\n",
        "   - Analyze attrition rates within each segment.\n",
        "\n",
        "6. **Employee Satisfaction Analysis:**\n",
        "   - Investigate satisfaction levels among departing employees.\n",
        "\n",
        "7. **Regular Monitoring System:**\n",
        "   - Implement ongoing data monitoring with alert triggers.\n",
        "\n",
        "8. **Communication of Findings:**\n",
        "   - Summarize insights and present recommendations to stakeholders.\n",
        "\"\"\""
      ]
    },
    {
      "cell_type": "code",
      "execution_count": 4,
      "metadata": {
        "id": "-K1mWuDoksTk"
      },
      "outputs": [],
      "source": [
        "assert len(dm_outline) > 100\n",
        "### BEGIN HIDDEN TESTS\n",
        "assert len(dm_outline) > 70\n",
        "### END HIDDEN TESTS"
      ]
    },
    {
      "cell_type": "markdown",
      "metadata": {
        "id": "pmUDFG1wkzUy"
      },
      "source": [
        "### What metrics will you use to measure the performance of your data analysis model?\n",
        "Write the equations of the metrics here\n",
        "\n",
        "1.  Accuracy = $\\frac{TP+TN}{(TP + FP+FN+TN)}$\n",
        "2. Precision = $\\frac{TP}{(TP + FP)}$\n",
        "3. Recall  = $\\frac{TP}{(TP + FN)}$\n",
        "4. F1 Score = $2*\\frac{Precision*Recall}{(Precision+Recall)}$\n",
        "5. ROC  AUC = $2*\\frac{Precision*Recall}{(Precision+Recall)}$\n",
        "6. Confusion Matrix\n",
        "\n",
        "\n"
      ]
    },
    {
      "cell_type": "markdown",
      "metadata": {
        "id": "KCNulojKk_BP"
      },
      "source": [
        "e.g. Precision = $\\frac{TP}{(TP + FP)}$\n",
        "\n"
      ]
    },
    {
      "cell_type": "markdown",
      "metadata": {
        "id": "vLS2YHoRk_EK"
      },
      "source": [
        "\n",
        "\n",
        "```\n",
        "# This is formatted as code\n",
        "```\n",
        "\n",
        "Why do you choose these metrics? minimum of 100 characters"
      ]
    },
    {
      "cell_type": "code",
      "execution_count": 5,
      "metadata": {
        "id": "LSynT14KlPSJ"
      },
      "outputs": [],
      "source": [
        "why_metrics = '''These metrics are selected to offer a balanced assessment of the model's performance in predicting employee attrition.\n",
        "Accuracy gauges overall correctness,\n",
        "precision and recall assess false positives and false negatives,\n",
        "while AUC-ROC provides insights into discrimination ability.\n",
        "This comprehensive set ensures a nuanced evaluation of the model's effectiveness\n",
        "in addressing the specific challenges of the attrition prediction problem.\n",
        "'''"
      ]
    },
    {
      "cell_type": "code",
      "execution_count": 6,
      "metadata": {
        "id": "yr-Mk0E8lPVJ"
      },
      "outputs": [],
      "source": [
        "assert len(why_metrics) > 100\n",
        "### BEGIN HIDDEN TESTS\n",
        "assert len(why_metrics) > 80\n",
        "### END HIDDEN TESTS"
      ]
    },
    {
      "cell_type": "markdown",
      "metadata": {
        "id": "aAo19Ip6lUtm"
      },
      "source": [
        "### How would you know if your data analysis work is a success or not?\n",
        "minimum of 100 characters"
      ]
    },
    {
      "cell_type": "code",
      "execution_count": 7,
      "metadata": {
        "id": "HESsiXW5llX-"
      },
      "outputs": [],
      "source": [
        "how_success = '''The success of the data analysis for the employee attrition problem is determined by\n",
        "the model's ability to accurately predict and identify factors influencing attrition.\n",
        "High accuracy, precision, and recall, along with meaningful insights into employee satisfaction and\n",
        "segmentation, would indicate a successful analysis.\n",
        "Additionally, the practical application of recommendations leading to\n",
        "a tangible reduction in employee attrition would further validate success.\n",
        "'''"
      ]
    },
    {
      "cell_type": "code",
      "execution_count": 8,
      "metadata": {
        "id": "FdUoiMIOlmXq"
      },
      "outputs": [],
      "source": [
        "assert len(how_success) > 100\n",
        "### BEGIN HIDDEN TESTS\n",
        "assert len(how_success) > 80\n",
        "### END HIDDEN TESTS"
      ]
    },
    {
      "cell_type": "markdown",
      "metadata": {
        "id": "DQE6dqo6l1TZ"
      },
      "source": [
        "## What kind of challenges do you expect in your analysis?\n",
        "List at least 3 challenges"
      ]
    },
    {
      "cell_type": "code",
      "execution_count": 9,
      "metadata": {
        "id": "WrAhBQhQl8Lh"
      },
      "outputs": [],
      "source": [
        "challenge_text = '''\n",
        "\n",
        "1. Imbalanced Data:The dataset may be imbalanced, with a significantly higher number of employees who stayed compared to those who left.\n",
        "This can affect the model's ability to accurately predict attrition, as it might be biased towards the majority class.\n",
        "Missing or Incomplete Data:\n",
        "\n",
        "2. The dataset may have missing or incomplete values for certain attributes.\n",
        "Handling missing data appropriately is crucial for the analysis, as it can impact the quality and reliability of the results.\n",
        "Complexity of Human Behavior:\n",
        "\n",
        "3. Employee attrition is often influenced by complex, multifaceted factors related to personal and professional aspects.\n",
        "Capturing the nuances of human behavior in a model may be challenging, and some influential factors might not be present in the dataset..\n",
        "'''"
      ]
    },
    {
      "cell_type": "code",
      "execution_count": 10,
      "metadata": {
        "id": "EedHa-Pll8X7"
      },
      "outputs": [],
      "source": [
        "assert len(challenge_text) > 100\n",
        "### BEGIN HIDDEN TESTS\n",
        "assert len(how_success) > 80\n",
        "### END HIDDEN TESTS"
      ]
    },
    {
      "cell_type": "markdown",
      "metadata": {
        "id": "ZcJ8M6uWDeSE"
      },
      "source": [
        "<h2>Using the processed twitter data from yesterday's challenge</h2>.\n",
        "\n",
        "\n",
        "- Form a new data frame (named `cleanTweet`), containing columns $\\textbf{clean-text}$ and $\\textbf{polarity}$.\n",
        "\n",
        "- Write a function `text_category` that takes a value `p` and returns, depending on the value of p, a string `'positive'`, `'negative'` or `'neutral'`.\n",
        "\n",
        "- Apply this function (`text_category`) on the $\\textbf{polarity}$ column of `cleanTweet` in 1 above to form a new column called $\\textbf{score}$ in `cleanTweet`.\n",
        "\n",
        "- Visualize The $\\textbf{score}$ column using piechart and barchart\n",
        "\n",
        "<h5>Now we want to build a classification model on the clean tweet following the steps below:</h5>\n",
        "\n",
        "* Remove rows from `cleanTweet` where $\\textbf{polarity}$ $= 0$ (i.e where $\\textbf{score}$ = Neutral) and reset the frame index.\n",
        "* Construct a column $\\textbf{scoremap}$ Use the mapping {'positive':1, 'negative':0} on the $\\textbf{score}$ column\n",
        "* Create feature and target variables `(X,y)` from $\\textbf{clean-text}$ and $\\textbf{scoremap}$ columns respectively.\n",
        "* Use `train_test_split` function to construct `(X_train, y_train)` and `(X_test, y_test)` from `(X,y)`\n",
        "\n",
        "* Build an `SGDClassifier` model from the vectorize train text data. Use `CountVectorizer()` with a $\\textit{trigram}$ parameter.\n",
        "\n",
        "* Evaluate your model on the test data.\n"
      ]
    },
    {
      "cell_type": "markdown",
      "metadata": {},
      "source": [
        "### Alexander Mengesha\n",
        "#### Email: alextakele16@gmail.com\n",
        "## Topic Modeling, Sentiment Analysis( 10 Academy Week 0 Challege )\n"
      ]
    },
    {
      "cell_type": "markdown",
      "metadata": {},
      "source": []
    },
    {
      "cell_type": "code",
      "execution_count": 40,
      "metadata": {
        "id": "85WxmGNGDcBY"
      },
      "outputs": [],
      "source": [
        "# packages to store and manipulate data\n",
        "import pandas as pd\n",
        "import numpy as np\n",
        "\n",
        "# plotting packages\n",
        "import matplotlib.pyplot as plt\n",
        "import seaborn as sns\n",
        "\n",
        "# model building package\n",
        "import sklearn\n",
        "\n",
        "# package to clean text\n",
        "import re"
      ]
    },
    {
      "cell_type": "code",
      "execution_count": 42,
      "metadata": {},
      "outputs": [],
      "source": [
        "df = pd.read_csv('cleaned_fintech_data.csv')"
      ]
    },
    {
      "cell_type": "code",
      "execution_count": 43,
      "metadata": {},
      "outputs": [
        {
          "data": {
            "text/html": [
              "<div>\n",
              "<style scoped>\n",
              "    .dataframe tbody tr th:only-of-type {\n",
              "        vertical-align: middle;\n",
              "    }\n",
              "\n",
              "    .dataframe tbody tr th {\n",
              "        vertical-align: top;\n",
              "    }\n",
              "\n",
              "    .dataframe thead th {\n",
              "        text-align: right;\n",
              "    }\n",
              "</style>\n",
              "<table border=\"1\" class=\"dataframe\">\n",
              "  <thead>\n",
              "    <tr style=\"text-align: right;\">\n",
              "      <th></th>\n",
              "      <th>Unnamed: 0</th>\n",
              "      <th>created_at</th>\n",
              "      <th>source</th>\n",
              "      <th>original_text</th>\n",
              "      <th>clean_text</th>\n",
              "      <th>sentiment</th>\n",
              "      <th>polarity</th>\n",
              "      <th>subjectivity</th>\n",
              "      <th>lang</th>\n",
              "      <th>favorite_count</th>\n",
              "      <th>...</th>\n",
              "      <th>original_author</th>\n",
              "      <th>screen_count</th>\n",
              "      <th>followers_count</th>\n",
              "      <th>friends_count</th>\n",
              "      <th>possibly_sensitive</th>\n",
              "      <th>hashtags</th>\n",
              "      <th>user_mentions</th>\n",
              "      <th>place</th>\n",
              "      <th>place_coord_boundaries</th>\n",
              "      <th>timestamp</th>\n",
              "    </tr>\n",
              "  </thead>\n",
              "  <tbody>\n",
              "    <tr>\n",
              "      <th>0</th>\n",
              "      <td>0.0</td>\n",
              "      <td>Thu Jun 17 06:26:34 +0000 2021</td>\n",
              "      <td>&lt;a href=\"https://mobile.twitter.com\" rel=\"nofo...</td>\n",
              "      <td>Giving forth life is becoming a burden in Keny...</td>\n",
              "      <td>Giving forth life becoming burden Kenya This m...</td>\n",
              "      <td>Sentiment(polarity=0.3194444444444445, subject...</td>\n",
              "      <td>0.3194444444444445</td>\n",
              "      <td>0.5305555555555556</td>\n",
              "      <td>en</td>\n",
              "      <td>0</td>\n",
              "      <td>...</td>\n",
              "      <td>reen_law</td>\n",
              "      <td>398</td>\n",
              "      <td>70</td>\n",
              "      <td>223</td>\n",
              "      <td>NaN</td>\n",
              "      <td>NaN</td>\n",
              "      <td>janetmachuka_</td>\n",
              "      <td>NaN</td>\n",
              "      <td>NaN</td>\n",
              "      <td>2021-06-17 06:26:34+00:00</td>\n",
              "    </tr>\n",
              "    <tr>\n",
              "      <th>1</th>\n",
              "      <td>1.0</td>\n",
              "      <td>Thu Jun 17 06:26:37 +0000 2021</td>\n",
              "      <td>&lt;a href=\"http://twitter.com/download/android\" ...</td>\n",
              "      <td>Teenmaar - 26cr\\nPanja - 32.5cr\\nGabbarsingh -...</td>\n",
              "      <td>Teenmaar crPanja crGabbarsingh cr Khaleja Kuda...</td>\n",
              "      <td>Sentiment(polarity=0.0, subjectivity=0.0)</td>\n",
              "      <td>0.0</td>\n",
              "      <td>0.0</td>\n",
              "      <td>in</td>\n",
              "      <td>0</td>\n",
              "      <td>...</td>\n",
              "      <td>Amigo9999_</td>\n",
              "      <td>19047</td>\n",
              "      <td>132</td>\n",
              "      <td>1084</td>\n",
              "      <td>NaN</td>\n",
              "      <td>NaN</td>\n",
              "      <td>maheshblood</td>\n",
              "      <td>NaN</td>\n",
              "      <td>India</td>\n",
              "      <td>2021-06-17 06:26:37+00:00</td>\n",
              "    </tr>\n",
              "    <tr>\n",
              "      <th>2</th>\n",
              "      <td>2.0</td>\n",
              "      <td>Thu Jun 17 06:26:42 +0000 2021</td>\n",
              "      <td>&lt;a href=\"http://twitter.com/download/android\" ...</td>\n",
              "      <td>Rei chintu 2013 lo Vachina Ad Nizam ne 2018 lo...</td>\n",
              "      <td>Rei chintu lo Vachina Ad Nizam ne lo kottaru f...</td>\n",
              "      <td>Sentiment(polarity=0.0, subjectivity=0.0)</td>\n",
              "      <td>0.0</td>\n",
              "      <td>0.0</td>\n",
              "      <td>hi</td>\n",
              "      <td>0</td>\n",
              "      <td>...</td>\n",
              "      <td>MallaSuhaas</td>\n",
              "      <td>47341</td>\n",
              "      <td>2696</td>\n",
              "      <td>2525</td>\n",
              "      <td>NaN</td>\n",
              "      <td>NaN</td>\n",
              "      <td>Hail_Kalyan</td>\n",
              "      <td>NaN</td>\n",
              "      <td>Vizag</td>\n",
              "      <td>2021-06-17 06:26:42+00:00</td>\n",
              "    </tr>\n",
              "    <tr>\n",
              "      <th>3</th>\n",
              "      <td>3.0</td>\n",
              "      <td>Thu Jun 17 06:26:44 +0000 2021</td>\n",
              "      <td>&lt;a href=\"http://twitter.com/download/iphone\" r...</td>\n",
              "      <td>Today is World Day to Combat #Desertification ...</td>\n",
              "      <td>Today World Day Combat Restoring degraded land...</td>\n",
              "      <td>Sentiment(polarity=0.25, subjectivity=0.65)</td>\n",
              "      <td>0.25</td>\n",
              "      <td>0.65</td>\n",
              "      <td>en</td>\n",
              "      <td>0</td>\n",
              "      <td>...</td>\n",
              "      <td>CIACOceania</td>\n",
              "      <td>7039</td>\n",
              "      <td>343</td>\n",
              "      <td>387</td>\n",
              "      <td>NaN</td>\n",
              "      <td>Desertification, Drought, resilience</td>\n",
              "      <td>EdwardVrkic</td>\n",
              "      <td>NaN</td>\n",
              "      <td>Papua New Guinea</td>\n",
              "      <td>2021-06-17 06:26:44+00:00</td>\n",
              "    </tr>\n",
              "    <tr>\n",
              "      <th>4</th>\n",
              "      <td>4.0</td>\n",
              "      <td>Thu Jun 17 06:26:47 +0000 2021</td>\n",
              "      <td>&lt;a href=\"http://twitter.com/download/android\" ...</td>\n",
              "      <td>Hearing #GregHunt say he's confident vaccines ...</td>\n",
              "      <td>Hearing say 's confident vaccines delivered li...</td>\n",
              "      <td>Sentiment(polarity=0.5, subjectivity=0.8333333...</td>\n",
              "      <td>0.5</td>\n",
              "      <td>0.8333333333333334</td>\n",
              "      <td>en</td>\n",
              "      <td>0</td>\n",
              "      <td>...</td>\n",
              "      <td>MccarronWendy</td>\n",
              "      <td>26064</td>\n",
              "      <td>419</td>\n",
              "      <td>878</td>\n",
              "      <td>NaN</td>\n",
              "      <td>GregHunt, Morrison</td>\n",
              "      <td>WriteWithDave</td>\n",
              "      <td>NaN</td>\n",
              "      <td>Sydney, New South Wales</td>\n",
              "      <td>2021-06-17 06:26:47+00:00</td>\n",
              "    </tr>\n",
              "    <tr>\n",
              "      <th>...</th>\n",
              "      <td>...</td>\n",
              "      <td>...</td>\n",
              "      <td>...</td>\n",
              "      <td>...</td>\n",
              "      <td>...</td>\n",
              "      <td>...</td>\n",
              "      <td>...</td>\n",
              "      <td>...</td>\n",
              "      <td>...</td>\n",
              "      <td>...</td>\n",
              "      <td>...</td>\n",
              "      <td>...</td>\n",
              "      <td>...</td>\n",
              "      <td>...</td>\n",
              "      <td>...</td>\n",
              "      <td>...</td>\n",
              "      <td>...</td>\n",
              "      <td>...</td>\n",
              "      <td>...</td>\n",
              "      <td>...</td>\n",
              "      <td>...</td>\n",
              "    </tr>\n",
              "    <tr>\n",
              "      <th>5616</th>\n",
              "      <td>2805.0</td>\n",
              "      <td>Thu Jun 17 10:21:02 +0000 2021</td>\n",
              "      <td>&lt;a href=\"https://mobile.twitter.com\" rel=\"nofo...</td>\n",
              "      <td>Lambie has voted AGAINST Medivac, Carbon tax, ...</td>\n",
              "      <td>Lambie voted AGAINST Medivac Carbon tax protec...</td>\n",
              "      <td>Sentiment(polarity=0.13636363636363635, subjec...</td>\n",
              "      <td>0.13636363636363635</td>\n",
              "      <td>0.45454545454545453</td>\n",
              "      <td>en</td>\n",
              "      <td>0</td>\n",
              "      <td>...</td>\n",
              "      <td>TrixAnabella</td>\n",
              "      <td>65144</td>\n",
              "      <td>644</td>\n",
              "      <td>1064</td>\n",
              "      <td>NaN</td>\n",
              "      <td>NaN</td>\n",
              "      <td>davidbewart</td>\n",
              "      <td>NaN</td>\n",
              "      <td>NaN</td>\n",
              "      <td>2021-06-17 10:21:02+00:00</td>\n",
              "    </tr>\n",
              "    <tr>\n",
              "      <th>5617</th>\n",
              "      <td>2806.0</td>\n",
              "      <td>Thu Jun 17 10:21:03 +0000 2021</td>\n",
              "      <td>&lt;a href=\"http://twitter.com/download/android\" ...</td>\n",
              "      <td>Idhi me bathuku \\nMost Day1 Records In Nizam f...</td>\n",
              "      <td>Idhi bathuku Most Day1 Records In Nizam Non BB...</td>\n",
              "      <td>Sentiment(polarity=0.5, subjectivity=0.5)</td>\n",
              "      <td>0.5</td>\n",
              "      <td>0.5</td>\n",
              "      <td>in</td>\n",
              "      <td>0</td>\n",
              "      <td>...</td>\n",
              "      <td>Faninexile1</td>\n",
              "      <td>4796</td>\n",
              "      <td>713</td>\n",
              "      <td>227</td>\n",
              "      <td>NaN</td>\n",
              "      <td>NaN</td>\n",
              "      <td>Maheshtarakian1</td>\n",
              "      <td>NaN</td>\n",
              "      <td>NaN</td>\n",
              "      <td>2021-06-17 10:21:03+00:00</td>\n",
              "    </tr>\n",
              "    <tr>\n",
              "      <th>5618</th>\n",
              "      <td>2807.0</td>\n",
              "      <td>Thu Jun 17 10:21:08 +0000 2021</td>\n",
              "      <td>&lt;a href=\"http://twitter.com/download/android\" ...</td>\n",
              "      <td>welkin moon giveaway bc i finally have money!\\...</td>\n",
              "      <td>welkin moon giveaway bc finally money -u got t...</td>\n",
              "      <td>Sentiment(polarity=0.15416666666666667, subjec...</td>\n",
              "      <td>0.15416666666666667</td>\n",
              "      <td>0.5</td>\n",
              "      <td>en</td>\n",
              "      <td>0</td>\n",
              "      <td>...</td>\n",
              "      <td>acquitaine_</td>\n",
              "      <td>520</td>\n",
              "      <td>365</td>\n",
              "      <td>581</td>\n",
              "      <td>NaN</td>\n",
              "      <td>NaN</td>\n",
              "      <td>siilveon</td>\n",
              "      <td>NaN</td>\n",
              "      <td>deez nuts</td>\n",
              "      <td>2021-06-17 10:21:08+00:00</td>\n",
              "    </tr>\n",
              "    <tr>\n",
              "      <th>5619</th>\n",
              "      <td>2808.0</td>\n",
              "      <td>Thu Jun 17 10:21:09 +0000 2021</td>\n",
              "      <td>&lt;a href=\"http://twitter.com/download/android\" ...</td>\n",
              "      <td>Manam edi chesina \\n\\nDaaniki kuda elevation i...</td>\n",
              "      <td>Manam edi chesina Daaniki kuda elevation istad...</td>\n",
              "      <td>Sentiment(polarity=0.0, subjectivity=0.0)</td>\n",
              "      <td>0.0</td>\n",
              "      <td>0.0</td>\n",
              "      <td>et</td>\n",
              "      <td>0</td>\n",
              "      <td>...</td>\n",
              "      <td>MbGodavari</td>\n",
              "      <td>17010</td>\n",
              "      <td>770</td>\n",
              "      <td>557</td>\n",
              "      <td>NaN</td>\n",
              "      <td>NaN</td>\n",
              "      <td>KonaseemaSSMBFC</td>\n",
              "      <td>NaN</td>\n",
              "      <td>NaN</td>\n",
              "      <td>2021-06-17 10:21:09+00:00</td>\n",
              "    </tr>\n",
              "    <tr>\n",
              "      <th>5620</th>\n",
              "      <td>2809.0</td>\n",
              "      <td>Thu Jun 17 10:21:10 +0000 2021</td>\n",
              "      <td>&lt;a href=\"https://mobile.twitter.com\" rel=\"nofo...</td>\n",
              "      <td>This is the first time I've seen the Governmen...</td>\n",
              "      <td>This first time I 've seen Government media le...</td>\n",
              "      <td>Sentiment(polarity=0.13, subjectivity=0.406666...</td>\n",
              "      <td>0.13</td>\n",
              "      <td>0.4066666666666666</td>\n",
              "      <td>en</td>\n",
              "      <td>0</td>\n",
              "      <td>...</td>\n",
              "      <td>NetNym</td>\n",
              "      <td>7783</td>\n",
              "      <td>207</td>\n",
              "      <td>874</td>\n",
              "      <td>NaN</td>\n",
              "      <td>NaN</td>\n",
              "      <td>CharlotteCGill</td>\n",
              "      <td>NaN</td>\n",
              "      <td>Rogue State of England</td>\n",
              "      <td>2021-06-17 10:21:10+00:00</td>\n",
              "    </tr>\n",
              "  </tbody>\n",
              "</table>\n",
              "<p>5621 rows × 21 columns</p>\n",
              "</div>"
            ],
            "text/plain": [
              "      Unnamed: 0                      created_at  \\\n",
              "0            0.0  Thu Jun 17 06:26:34 +0000 2021   \n",
              "1            1.0  Thu Jun 17 06:26:37 +0000 2021   \n",
              "2            2.0  Thu Jun 17 06:26:42 +0000 2021   \n",
              "3            3.0  Thu Jun 17 06:26:44 +0000 2021   \n",
              "4            4.0  Thu Jun 17 06:26:47 +0000 2021   \n",
              "...          ...                             ...   \n",
              "5616      2805.0  Thu Jun 17 10:21:02 +0000 2021   \n",
              "5617      2806.0  Thu Jun 17 10:21:03 +0000 2021   \n",
              "5618      2807.0  Thu Jun 17 10:21:08 +0000 2021   \n",
              "5619      2808.0  Thu Jun 17 10:21:09 +0000 2021   \n",
              "5620      2809.0  Thu Jun 17 10:21:10 +0000 2021   \n",
              "\n",
              "                                                 source  \\\n",
              "0     <a href=\"https://mobile.twitter.com\" rel=\"nofo...   \n",
              "1     <a href=\"http://twitter.com/download/android\" ...   \n",
              "2     <a href=\"http://twitter.com/download/android\" ...   \n",
              "3     <a href=\"http://twitter.com/download/iphone\" r...   \n",
              "4     <a href=\"http://twitter.com/download/android\" ...   \n",
              "...                                                 ...   \n",
              "5616  <a href=\"https://mobile.twitter.com\" rel=\"nofo...   \n",
              "5617  <a href=\"http://twitter.com/download/android\" ...   \n",
              "5618  <a href=\"http://twitter.com/download/android\" ...   \n",
              "5619  <a href=\"http://twitter.com/download/android\" ...   \n",
              "5620  <a href=\"https://mobile.twitter.com\" rel=\"nofo...   \n",
              "\n",
              "                                          original_text  \\\n",
              "0     Giving forth life is becoming a burden in Keny...   \n",
              "1     Teenmaar - 26cr\\nPanja - 32.5cr\\nGabbarsingh -...   \n",
              "2     Rei chintu 2013 lo Vachina Ad Nizam ne 2018 lo...   \n",
              "3     Today is World Day to Combat #Desertification ...   \n",
              "4     Hearing #GregHunt say he's confident vaccines ...   \n",
              "...                                                 ...   \n",
              "5616  Lambie has voted AGAINST Medivac, Carbon tax, ...   \n",
              "5617  Idhi me bathuku \\nMost Day1 Records In Nizam f...   \n",
              "5618  welkin moon giveaway bc i finally have money!\\...   \n",
              "5619  Manam edi chesina \\n\\nDaaniki kuda elevation i...   \n",
              "5620  This is the first time I've seen the Governmen...   \n",
              "\n",
              "                                             clean_text  \\\n",
              "0     Giving forth life becoming burden Kenya This m...   \n",
              "1     Teenmaar crPanja crGabbarsingh cr Khaleja Kuda...   \n",
              "2     Rei chintu lo Vachina Ad Nizam ne lo kottaru f...   \n",
              "3     Today World Day Combat Restoring degraded land...   \n",
              "4     Hearing say 's confident vaccines delivered li...   \n",
              "...                                                 ...   \n",
              "5616  Lambie voted AGAINST Medivac Carbon tax protec...   \n",
              "5617  Idhi bathuku Most Day1 Records In Nizam Non BB...   \n",
              "5618  welkin moon giveaway bc finally money -u got t...   \n",
              "5619  Manam edi chesina Daaniki kuda elevation istad...   \n",
              "5620  This first time I 've seen Government media le...   \n",
              "\n",
              "                                              sentiment             polarity  \\\n",
              "0     Sentiment(polarity=0.3194444444444445, subject...   0.3194444444444445   \n",
              "1             Sentiment(polarity=0.0, subjectivity=0.0)                  0.0   \n",
              "2             Sentiment(polarity=0.0, subjectivity=0.0)                  0.0   \n",
              "3           Sentiment(polarity=0.25, subjectivity=0.65)                 0.25   \n",
              "4     Sentiment(polarity=0.5, subjectivity=0.8333333...                  0.5   \n",
              "...                                                 ...                  ...   \n",
              "5616  Sentiment(polarity=0.13636363636363635, subjec...  0.13636363636363635   \n",
              "5617          Sentiment(polarity=0.5, subjectivity=0.5)                  0.5   \n",
              "5618  Sentiment(polarity=0.15416666666666667, subjec...  0.15416666666666667   \n",
              "5619          Sentiment(polarity=0.0, subjectivity=0.0)                  0.0   \n",
              "5620  Sentiment(polarity=0.13, subjectivity=0.406666...                 0.13   \n",
              "\n",
              "             subjectivity lang favorite_count  ... original_author  \\\n",
              "0      0.5305555555555556   en              0  ...        reen_law   \n",
              "1                     0.0   in              0  ...      Amigo9999_   \n",
              "2                     0.0   hi              0  ...     MallaSuhaas   \n",
              "3                    0.65   en              0  ...     CIACOceania   \n",
              "4      0.8333333333333334   en              0  ...   MccarronWendy   \n",
              "...                   ...  ...            ...  ...             ...   \n",
              "5616  0.45454545454545453   en              0  ...    TrixAnabella   \n",
              "5617                  0.5   in              0  ...     Faninexile1   \n",
              "5618                  0.5   en              0  ...     acquitaine_   \n",
              "5619                  0.0   et              0  ...      MbGodavari   \n",
              "5620   0.4066666666666666   en              0  ...          NetNym   \n",
              "\n",
              "     screen_count followers_count friends_count possibly_sensitive  \\\n",
              "0             398              70           223                NaN   \n",
              "1           19047             132          1084                NaN   \n",
              "2           47341            2696          2525                NaN   \n",
              "3            7039             343           387                NaN   \n",
              "4           26064             419           878                NaN   \n",
              "...           ...             ...           ...                ...   \n",
              "5616        65144             644          1064                NaN   \n",
              "5617         4796             713           227                NaN   \n",
              "5618          520             365           581                NaN   \n",
              "5619        17010             770           557                NaN   \n",
              "5620         7783             207           874                NaN   \n",
              "\n",
              "                                  hashtags    user_mentions place  \\\n",
              "0                                      NaN    janetmachuka_   NaN   \n",
              "1                                      NaN      maheshblood   NaN   \n",
              "2                                      NaN      Hail_Kalyan   NaN   \n",
              "3     Desertification, Drought, resilience      EdwardVrkic   NaN   \n",
              "4                       GregHunt, Morrison    WriteWithDave   NaN   \n",
              "...                                    ...              ...   ...   \n",
              "5616                                   NaN      davidbewart   NaN   \n",
              "5617                                   NaN  Maheshtarakian1   NaN   \n",
              "5618                                   NaN         siilveon   NaN   \n",
              "5619                                   NaN  KonaseemaSSMBFC   NaN   \n",
              "5620                                   NaN   CharlotteCGill   NaN   \n",
              "\n",
              "       place_coord_boundaries                  timestamp  \n",
              "0                         NaN  2021-06-17 06:26:34+00:00  \n",
              "1                       India  2021-06-17 06:26:37+00:00  \n",
              "2                       Vizag  2021-06-17 06:26:42+00:00  \n",
              "3            Papua New Guinea  2021-06-17 06:26:44+00:00  \n",
              "4     Sydney, New South Wales  2021-06-17 06:26:47+00:00  \n",
              "...                       ...                        ...  \n",
              "5616                      NaN  2021-06-17 10:21:02+00:00  \n",
              "5617                      NaN  2021-06-17 10:21:03+00:00  \n",
              "5618                deez nuts  2021-06-17 10:21:08+00:00  \n",
              "5619                      NaN  2021-06-17 10:21:09+00:00  \n",
              "5620   Rogue State of England  2021-06-17 10:21:10+00:00  \n",
              "\n",
              "[5621 rows x 21 columns]"
            ]
          },
          "execution_count": 43,
          "metadata": {},
          "output_type": "execute_result"
        }
      ],
      "source": [
        "df"
      ]
    },
    {
      "cell_type": "code",
      "execution_count": 44,
      "metadata": {},
      "outputs": [],
      "source": [
        "df.drop(['Unnamed: 0'],inplace = True, axis = 1)"
      ]
    },
    {
      "cell_type": "code",
      "execution_count": 45,
      "metadata": {},
      "outputs": [
        {
          "data": {
            "text/plain": [
              "(5621, 20)"
            ]
          },
          "execution_count": 45,
          "metadata": {},
          "output_type": "execute_result"
        }
      ],
      "source": [
        "df.shape"
      ]
    },
    {
      "cell_type": "code",
      "execution_count": 46,
      "metadata": {},
      "outputs": [
        {
          "data": {
            "text/plain": [
              "Index(['created_at', 'source', 'original_text', 'clean_text', 'sentiment',\n",
              "       'polarity', 'subjectivity', 'lang', 'favorite_count', 'retweet_count',\n",
              "       'original_author', 'screen_count', 'followers_count', 'friends_count',\n",
              "       'possibly_sensitive', 'hashtags', 'user_mentions', 'place',\n",
              "       'place_coord_boundaries', 'timestamp'],\n",
              "      dtype='object')"
            ]
          },
          "execution_count": 46,
          "metadata": {},
          "output_type": "execute_result"
        }
      ],
      "source": [
        "df.columns"
      ]
    },
    {
      "cell_type": "code",
      "execution_count": 47,
      "metadata": {},
      "outputs": [],
      "source": [
        "cleanTweet = df[['clean_text', 'polarity']].copy()"
      ]
    },
    {
      "cell_type": "code",
      "execution_count": 48,
      "metadata": {},
      "outputs": [
        {
          "name": "stdout",
          "output_type": "stream",
          "text": [
            "Text category: positive\n"
          ]
        }
      ],
      "source": [
        "def text_category(p):\n",
        "    if p > 0:\n",
        "        return 'positive'\n",
        "    elif p < 0:\n",
        "        return 'negative'\n",
        "    else:\n",
        "        return 'neutral'\n",
        "\n",
        "# Example usage:\n",
        "polarity_value = 0.25  # Replace with the actual polarity value\n",
        "category = text_category(polarity_value)\n",
        "print(f'Text category: {category}')\n"
      ]
    },
    {
      "cell_type": "code",
      "execution_count": 31,
      "metadata": {},
      "outputs": [],
      "source": [
        "# Exploratory Data Analysis"
      ]
    },
    {
      "cell_type": "code",
      "execution_count": 49,
      "metadata": {},
      "outputs": [
        {
          "data": {
            "image/png": "[encoded data removed]",
            "text/plain": [
              "<Figure size 800x800 with 1 Axes>"
            ]
          },
          "metadata": {},
          "output_type": "display_data"
        }
      ],
      "source": [
        "# Convert 'polarity' column to numeric\n",
        "cleanTweet['polarity'] = pd.to_numeric(cleanTweet['polarity'], errors='coerce')\n",
        "\n",
        "# Apply the text_category function to create a new column 'text_category'\n",
        "cleanTweet['text_category'] = cleanTweet['polarity'].apply(text_category)\n",
        "\n",
        "# Pie chart\n",
        "plt.figure(figsize=(8, 8))\n",
        "polarity_counts = cleanTweet['text_category'].value_counts()\n",
        "labels = ['Positive', 'Neutral', 'Negative']\n",
        "colors = ['green', 'gray', 'red']\n",
        "plt.pie(polarity_counts, labels=labels, colors=colors, autopct='%1.1f%%', startangle=90)\n",
        "plt.title('Distribution of Polarity')\n",
        "plt.show()\n"
      ]
    },
    {
      "cell_type": "code",
      "execution_count": 50,
      "metadata": {},
      "outputs": [
        {
          "data": {
            "image/png": "[encoded data removed]",
            "text/plain": [
              "<Figure size 1000x600 with 1 Axes>"
            ]
          },
          "metadata": {},
          "output_type": "display_data"
        }
      ],
      "source": [
        "# Bar chart\n",
        "plt.figure(figsize=(10, 6))\n",
        "polarity_counts.plot(kind='bar', color=colors)\n",
        "plt.xlabel('Sentiment')\n",
        "plt.ylabel('Count')\n",
        "plt.title('Count of Sentiments')\n",
        "plt.xticks(rotation=0)\n",
        "plt.show()"
      ]
    },
    {
      "cell_type": "code",
      "execution_count": 14,
      "metadata": {},
      "outputs": [],
      "source": [
        "# Remove rows where polarity is 0 (Neutral)\n",
        "cleanTweet = cleanTweet[cleanTweet['polarity'] != 0]\n",
        "\n",
        "# Reset the index\n",
        "cleanTweet.reset_index(drop=True, inplace=True)\n"
      ]
    },
    {
      "cell_type": "code",
      "execution_count": 51,
      "metadata": {},
      "outputs": [],
      "source": [
        "# Define the mapping\n",
        "score_mapping = {'positive': 1, 'negative': 0}\n",
        "\n",
        "# Create the 'scoremap' column\n",
        "cleanTweet['scoremap'] = cleanTweet['text_category'].map(score_mapping)\n"
      ]
    },
    {
      "cell_type": "code",
      "execution_count": 52,
      "metadata": {},
      "outputs": [],
      "source": [
        "# Feature variable X\n",
        "X = cleanTweet['clean_text']\n",
        "\n",
        "# Target variable y\n",
        "y = cleanTweet['scoremap']\n"
      ]
    },
    {
      "cell_type": "code",
      "execution_count": 53,
      "metadata": {},
      "outputs": [
        {
          "name": "stdout",
          "output_type": "stream",
          "text": [
            "X_train shape: (4496,)\n",
            "X_test shape: (1125,)\n",
            "y_train shape: (4496,)\n",
            "y_test shape: (1125,)\n"
          ]
        }
      ],
      "source": [
        "from sklearn.model_selection import train_test_split\n",
        "\n",
        "# Split the data into training and testing sets\n",
        "X_train, X_test, y_train, y_test = train_test_split(X, y, test_size=0.2, random_state=42)\n",
        "\n",
        "# Print the shapes of the resulting sets\n",
        "print(\"X_train shape:\", X_train.shape)\n",
        "print(\"X_test shape:\", X_test.shape)\n",
        "print(\"y_train shape:\", y_train.shape)\n",
        "print(\"y_test shape:\", y_test.shape)\n"
      ]
    },
    {
      "cell_type": "code",
      "execution_count": 54,
      "metadata": {},
      "outputs": [
        {
          "name": "stdout",
          "output_type": "stream",
          "text": [
            "Indices with NaN values in y_train: Index([4006, 1654,  657,  898, 3937, 1235, 3922, 4534, 2998, 5190,\n",
            "       ...\n",
            "       5311,  769,  130, 2919, 3171, 5578,  466, 3092, 5191, 5390],\n",
            "      dtype='int64', length=1698)\n"
          ]
        },
        {
          "data": {
            "text/html": [
              "<style>#sk-container-id-2 {color: black;}#sk-container-id-2 pre{padding: 0;}#sk-container-id-2 div.sk-toggleable {background-color: white;}#sk-container-id-2 label.sk-toggleable__label {cursor: pointer;display: block;width: 100%;margin-bottom: 0;padding: 0.3em;box-sizing: border-box;text-align: center;}#sk-container-id-2 label.sk-toggleable__label-arrow:before {content: \"▸\";float: left;margin-right: 0.25em;color: #696969;}#sk-container-id-2 label.sk-toggleable__label-arrow:hover:before {color: black;}#sk-container-id-2 div.sk-estimator:hover label.sk-toggleable__label-arrow:before {color: black;}#sk-container-id-2 div.sk-toggleable__content {max-height: 0;max-width: 0;overflow: hidden;text-align: left;background-color: #f0f8ff;}#sk-container-id-2 div.sk-toggleable__content pre {margin: 0.2em;color: black;border-radius: 0.25em;background-color: #f0f8ff;}#sk-container-id-2 input.sk-toggleable__control:checked~div.sk-toggleable__content {max-height: 200px;max-width: 100%;overflow: auto;}#sk-container-id-2 input.sk-toggleable__control:checked~label.sk-toggleable__label-arrow:before {content: \"▾\";}#sk-container-id-2 div.sk-estimator input.sk-toggleable__control:checked~label.sk-toggleable__label {background-color: #d4ebff;}#sk-container-id-2 div.sk-label input.sk-toggleable__control:checked~label.sk-toggleable__label {background-color: #d4ebff;}#sk-container-id-2 input.sk-hidden--visually {border: 0;clip: rect(1px 1px 1px 1px);clip: rect(1px, 1px, 1px, 1px);height: 1px;margin: -1px;overflow: hidden;padding: 0;position: absolute;width: 1px;}#sk-container-id-2 div.sk-estimator {font-family: monospace;background-color: #f0f8ff;border: 1px dotted black;border-radius: 0.25em;box-sizing: border-box;margin-bottom: 0.5em;}#sk-container-id-2 div.sk-estimator:hover {background-color: #d4ebff;}#sk-container-id-2 div.sk-parallel-item::after {content: \"\";width: 100%;border-bottom: 1px solid gray;flex-grow: 1;}#sk-container-id-2 div.sk-label:hover label.sk-toggleable__label {background-color: #d4ebff;}#sk-container-id-2 div.sk-serial::before {content: \"\";position: absolute;border-left: 1px solid gray;box-sizing: border-box;top: 0;bottom: 0;left: 50%;z-index: 0;}#sk-container-id-2 div.sk-serial {display: flex;flex-direction: column;align-items: center;background-color: white;padding-right: 0.2em;padding-left: 0.2em;position: relative;}#sk-container-id-2 div.sk-item {position: relative;z-index: 1;}#sk-container-id-2 div.sk-parallel {display: flex;align-items: stretch;justify-content: center;background-color: white;position: relative;}#sk-container-id-2 div.sk-item::before, #sk-container-id-2 div.sk-parallel-item::before {content: \"\";position: absolute;border-left: 1px solid gray;box-sizing: border-box;top: 0;bottom: 0;left: 50%;z-index: -1;}#sk-container-id-2 div.sk-parallel-item {display: flex;flex-direction: column;z-index: 1;position: relative;background-color: white;}#sk-container-id-2 div.sk-parallel-item:first-child::after {align-self: flex-end;width: 50%;}#sk-container-id-2 div.sk-parallel-item:last-child::after {align-self: flex-start;width: 50%;}#sk-container-id-2 div.sk-parallel-item:only-child::after {width: 0;}#sk-container-id-2 div.sk-dashed-wrapped {border: 1px dashed gray;margin: 0 0.4em 0.5em 0.4em;box-sizing: border-box;padding-bottom: 0.4em;background-color: white;}#sk-container-id-2 div.sk-label label {font-family: monospace;font-weight: bold;display: inline-block;line-height: 1.2em;}#sk-container-id-2 div.sk-label-container {text-align: center;}#sk-container-id-2 div.sk-container {/* jupyter's `normalize.less` sets `[hidden] { display: none; }` but bootstrap.min.css set `[hidden] { display: none !important; }` so we also need the `!important` here to be able to override the default hidden behavior on the sphinx rendered scikit-learn.org. See: https://github.com/scikit-learn/scikit-learn/issues/21755 */display: inline-block !important;position: relative;}#sk-container-id-2 div.sk-text-repr-fallback {display: none;}</style><div id=\"sk-container-id-2\" class=\"sk-top-container\"><div class=\"sk-text-repr-fallback\"><pre>Pipeline(steps=[(&#x27;vectorizer&#x27;, CountVectorizer(ngram_range=(1, 3))),\n",
              "                (&#x27;classifier&#x27;, SGDClassifier(random_state=42))])</pre><b>In a Jupyter environment, please rerun this cell to show the HTML representation or trust the notebook. <br />On GitHub, the HTML representation is unable to render, please try loading this page with nbviewer.org.</b></div><div class=\"sk-container\" hidden><div class=\"sk-item sk-dashed-wrapped\"><div class=\"sk-label-container\"><div class=\"sk-label sk-toggleable\"><input class=\"sk-toggleable__control sk-hidden--visually\" id=\"sk-estimator-id-4\" type=\"checkbox\" ><label for=\"sk-estimator-id-4\" class=\"sk-toggleable__label sk-toggleable__label-arrow\">Pipeline</label><div class=\"sk-toggleable__content\"><pre>Pipeline(steps=[(&#x27;vectorizer&#x27;, CountVectorizer(ngram_range=(1, 3))),\n",
              "                (&#x27;classifier&#x27;, SGDClassifier(random_state=42))])</pre></div></div></div><div class=\"sk-serial\"><div class=\"sk-item\"><div class=\"sk-estimator sk-toggleable\"><input class=\"sk-toggleable__control sk-hidden--visually\" id=\"sk-estimator-id-5\" type=\"checkbox\" ><label for=\"sk-estimator-id-5\" class=\"sk-toggleable__label sk-toggleable__label-arrow\">CountVectorizer</label><div class=\"sk-toggleable__content\"><pre>CountVectorizer(ngram_range=(1, 3))</pre></div></div></div><div class=\"sk-item\"><div class=\"sk-estimator sk-toggleable\"><input class=\"sk-toggleable__control sk-hidden--visually\" id=\"sk-estimator-id-6\" type=\"checkbox\" ><label for=\"sk-estimator-id-6\" class=\"sk-toggleable__label sk-toggleable__label-arrow\">SGDClassifier</label><div class=\"sk-toggleable__content\"><pre>SGDClassifier(random_state=42)</pre></div></div></div></div></div></div></div>"
            ],
            "text/plain": [
              "Pipeline(steps=[('vectorizer', CountVectorizer(ngram_range=(1, 3))),\n",
              "                ('classifier', SGDClassifier(random_state=42))])"
            ]
          },
          "execution_count": 54,
          "metadata": {},
          "output_type": "execute_result"
        }
      ],
      "source": [
        "from sklearn.feature_extraction.text import CountVectorizer\n",
        "from sklearn.linear_model import SGDClassifier\n",
        "from sklearn.pipeline import Pipeline\n",
        "from sklearn.metrics import accuracy_score, classification_report\n",
        "# Check for NaN values in y_train\n",
        "nan_indices = y_train.index[y_train.isna()]\n",
        "print(\"Indices with NaN values in y_train:\", nan_indices)\n",
        "\n",
        "# Drop rows with NaN values in y_train\n",
        "X_train = X_train.drop(nan_indices)\n",
        "y_train = y_train.drop(nan_indices)\n",
        "\n",
        "# Create a new model\n",
        "model = Pipeline([\n",
        "    ('vectorizer', CountVectorizer(ngram_range=(1, 3))),\n",
        "    ('classifier', SGDClassifier(random_state=42))\n",
        "])\n",
        "\n",
        "# Fit the model on the training data\n",
        "model.fit(X_train, y_train)\n",
        "\n",
        "# Continue with the rest of your code for predictions and evaluation\n"
      ]
    },
    {
      "cell_type": "code",
      "execution_count": 56,
      "metadata": {},
      "outputs": [
        {
          "name": "stdout",
          "output_type": "stream",
          "text": [
            "Indices with NaN values in y_test: Index([  80, 1115, 2997, 2893, 2486, 2095, 3501,  410, 2669, 2851,\n",
            "       ...\n",
            "       5361, 5604, 3787,  322, 4063,  334, 1871, 3010,  731,  291],\n",
            "      dtype='int64', length=437)\n",
            "Accuracy: 0.9971\n",
            "Precision: 0.9961\n",
            "Recall: 1.0000\n",
            "F1 Score: 0.9981\n"
          ]
        }
      ],
      "source": [
        "from sklearn.metrics import accuracy_score, precision_score, recall_score, f1_score\n",
        "import numpy as np\n",
        "\n",
        "# Check for NaN values in y_test\n",
        "nan_indices = y_test.index[y_test.isna()]\n",
        "print(\"Indices with NaN values in y_test:\", nan_indices)\n",
        "\n",
        "# Drop rows with NaN values in y_test\n",
        "X_test = X_test.drop(nan_indices)\n",
        "y_test = y_test.drop(nan_indices)\n",
        "\n",
        "# Predictions on the test set\n",
        "y_pred = model.predict(X_test)\n",
        "\n",
        "# Evaluate the model\n",
        "accuracy = accuracy_score(y_test, y_pred)\n",
        "precision = precision_score(y_test, y_pred)\n",
        "recall = recall_score(y_test, y_pred)\n",
        "f1 = f1_score(y_test, y_pred)\n",
        "\n",
        "# Print the evaluation metrics\n",
        "print(f'Accuracy: {accuracy:.4f}')\n",
        "print(f'Precision: {precision:.4f}')\n",
        "print(f'Recall: {recall:.4f}')\n",
        "print(f'F1 Score: {f1:.4f}')\n"
      ]
    },
    {
      "cell_type": "code",
      "execution_count": null,
      "metadata": {},
      "outputs": [],
      "source": [
        "#Let us do the rest of the Analysis"
      ]
    },
    {
      "cell_type": "markdown",
      "metadata": {},
      "source": [
        "#### Summarise the different MLOps components and their use Answer the following question \n"
      ]
    },
    {
      "cell_type": "code",
      "execution_count": 60,
      "metadata": {},
      "outputs": [
        {
          "data": {
            "image/png": "[encoded data removed]",
            "text/plain": [
              "<Figure size 640x480 with 1 Axes>"
            ]
          },
          "metadata": {},
          "output_type": "display_data"
        }
      ],
      "source": [
        "# Assuming 'timestamp' is the column containing timestamps\n",
        "# Load your DataFrame here\n",
        "# df = ...\n",
        "\n",
        "# Create a copy of the DataFrame to avoid SettingWithCopyWarning\n",
        "df = df.copy()\n",
        "\n",
        "# Convert 'timestamp' column to datetime objects\n",
        "df['timestamp'] = pd.to_datetime(df['timestamp'])\n",
        "\n",
        "# Calculate time differences between consecutive events\n",
        "df['time_diff'] = df['timestamp'].diff()\n",
        "\n",
        "# Convert time differences to seconds\n",
        "df['time_diff_seconds'] = df['time_diff'].dt.total_seconds()\n",
        "\n",
        "# Plot histogram of time differences\n",
        "plt.hist(df['time_diff_seconds'].dropna(), bins=50, edgecolor='black')\n",
        "plt.xlabel('Time Difference (seconds)')\n",
        "plt.ylabel('Frequency')\n",
        "plt.title('Histogram of Time Differences')\n",
        "plt.show()\n"
      ]
    },
    {
      "cell_type": "code",
      "execution_count": 72,
      "metadata": {},
      "outputs": [
        {
          "data": {
            "image/png": "[encoded data removed]",
            "text/plain": [
              "<Figure size 1000x600 with 1 Axes>"
            ]
          },
          "metadata": {},
          "output_type": "display_data"
        }
      ],
      "source": [
        "import pandas as pd\n",
        "import matplotlib.pyplot as plt\n",
        "\n",
        "# Assuming 'timestamp' is the column containing timestamps\n",
        "# Load your DataFrame here\n",
        "# df = ...\n",
        "\n",
        "# Convert 'timestamp' column to datetime objects\n",
        "df['timestamp'] = pd.to_datetime(df['timestamp'])\n",
        "\n",
        "# Sort DataFrame by timestamp\n",
        "df.sort_values(by='timestamp', inplace=True)\n",
        "\n",
        "# Replace 'event_type' with the actual column name containing event types\n",
        "# If you don't have an 'event_type' column, you may need to replace it with the correct column name.\n",
        "df['event_type'] = 'event'  # Replace 'event' with the actual event type or remove this line if you don't have an event type column\n",
        "\n",
        "# Calculate time differences between consecutive events\n",
        "df['time_diff'] = df.groupby('event_type')['timestamp'].diff()\n",
        "\n",
        "# Convert time differences to seconds\n",
        "df['time_diff_seconds'] = df['time_diff'].dt.total_seconds()\n",
        "\n",
        "# Plot histogram of time differences\n",
        "plt.figure(figsize=(10, 6))\n",
        "event_types = df['event_type'].unique()\n",
        "for event_type in event_types:\n",
        "    event_df = df[df['event_type'] == event_type]\n",
        "    plt.hist(event_df['time_diff_seconds'].dropna(), bins=50, edgecolor='black', alpha=0.7, label=event_type)\n",
        "\n",
        "plt.xlabel('Time Difference (seconds)')\n",
        "plt.ylabel('Frequency')\n",
        "plt.legend()\n",
        "plt.title('Time Difference Between Consecutive Events')\n",
        "plt.show()\n"
      ]
    },
    {
      "cell_type": "code",
      "execution_count": 73,
      "metadata": {},
      "outputs": [
        {
          "ename": "KeyError",
          "evalue": "'your_actual_event_type_column_name'",
          "output_type": "error",
          "traceback": [
            "\u001b[1;31m---------------------------------------------------------------------------\u001b[0m",
            "\u001b[1;31mKeyError\u001b[0m                                  Traceback (most recent call last)",
            "File \u001b[1;32mc:\\ProgramData\\anaconda3\\Lib\\site-packages\\pandas\\core\\indexes\\base.py:3653\u001b[0m, in \u001b[0;36mIndex.get_loc\u001b[1;34m(self, key)\u001b[0m\n\u001b[0;32m   3652\u001b[0m \u001b[39mtry\u001b[39;00m:\n\u001b[1;32m-> 3653\u001b[0m     \u001b[39mreturn\u001b[39;00m \u001b[39mself\u001b[39m\u001b[39m.\u001b[39m_engine\u001b[39m.\u001b[39mget_loc(casted_key)\n\u001b[0;32m   3654\u001b[0m \u001b[39mexcept\u001b[39;00m \u001b[39mKeyError\u001b[39;00m \u001b[39mas\u001b[39;00m err:\n",
            "File \u001b[1;32mc:\\ProgramData\\anaconda3\\Lib\\site-packages\\pandas\\_libs\\index.pyx:147\u001b[0m, in \u001b[0;36mpandas._libs.index.IndexEngine.get_loc\u001b[1;34m()\u001b[0m\n",
            "File \u001b[1;32mc:\\ProgramData\\anaconda3\\Lib\\site-packages\\pandas\\_libs\\index.pyx:176\u001b[0m, in \u001b[0;36mpandas._libs.index.IndexEngine.get_loc\u001b[1;34m()\u001b[0m\n",
            "File \u001b[1;32mpandas\\_libs\\hashtable_class_helper.pxi:7080\u001b[0m, in \u001b[0;36mpandas._libs.hashtable.PyObjectHashTable.get_item\u001b[1;34m()\u001b[0m\n",
            "File \u001b[1;32mpandas\\_libs\\hashtable_class_helper.pxi:7088\u001b[0m, in \u001b[0;36mpandas._libs.hashtable.PyObjectHashTable.get_item\u001b[1;34m()\u001b[0m\n",
            "\u001b[1;31mKeyError\u001b[0m: 'your_actual_event_type_column_name'",
            "\nThe above exception was the direct cause of the following exception:\n",
            "\u001b[1;31mKeyError\u001b[0m                                  Traceback (most recent call last)",
            "\u001b[1;32mc:\\Users\\alext\\OneDrive\\Desktop\\week0_starter_network_analysis\\Day2_Data-Science-Component-building\\Tuseday_Challenge__Day2.ipynb Cell 48\u001b[0m line \u001b[0;36m1\n\u001b[0;32m     <a href='vscode-notebook-cell:/c%3A/Users/alext/OneDrive/Desktop/week0_starter_network_analysis/Day2_Data-Science-Component-building/Tuseday_Challenge__Day2.ipynb#Y124sZmlsZQ%3D%3D?line=11'>12</a>\u001b[0m df\u001b[39m.\u001b[39msort_values(by\u001b[39m=\u001b[39m\u001b[39m'\u001b[39m\u001b[39mtimestamp\u001b[39m\u001b[39m'\u001b[39m, inplace\u001b[39m=\u001b[39m\u001b[39mTrue\u001b[39;00m)\n\u001b[0;32m     <a href='vscode-notebook-cell:/c%3A/Users/alext/OneDrive/Desktop/week0_starter_network_analysis/Day2_Data-Science-Component-building/Tuseday_Challenge__Day2.ipynb#Y124sZmlsZQ%3D%3D?line=13'>14</a>\u001b[0m \u001b[39m# Replace 'event_type' with the actual column name containing event types\u001b[39;00m\n\u001b[0;32m     <a href='vscode-notebook-cell:/c%3A/Users/alext/OneDrive/Desktop/week0_starter_network_analysis/Day2_Data-Science-Component-building/Tuseday_Challenge__Day2.ipynb#Y124sZmlsZQ%3D%3D?line=14'>15</a>\u001b[0m \u001b[39m# If you don't have an 'event_type' column, you may need to replace it with the correct column name.\u001b[39;00m\n\u001b[0;32m     <a href='vscode-notebook-cell:/c%3A/Users/alext/OneDrive/Desktop/week0_starter_network_analysis/Day2_Data-Science-Component-building/Tuseday_Challenge__Day2.ipynb#Y124sZmlsZQ%3D%3D?line=15'>16</a>\u001b[0m \u001b[39m# Replace 'your_actual_event_type_column_name' with the actual column name containing event types\u001b[39;00m\n\u001b[1;32m---> <a href='vscode-notebook-cell:/c%3A/Users/alext/OneDrive/Desktop/week0_starter_network_analysis/Day2_Data-Science-Component-building/Tuseday_Challenge__Day2.ipynb#Y124sZmlsZQ%3D%3D?line=16'>17</a>\u001b[0m df[\u001b[39m'\u001b[39m\u001b[39mevent_type\u001b[39m\u001b[39m'\u001b[39m] \u001b[39m=\u001b[39m df[\u001b[39m'\u001b[39m\u001b[39myour_actual_event_type_column_name\u001b[39m\u001b[39m'\u001b[39m]\n\u001b[0;32m     <a href='vscode-notebook-cell:/c%3A/Users/alext/OneDrive/Desktop/week0_starter_network_analysis/Day2_Data-Science-Component-building/Tuseday_Challenge__Day2.ipynb#Y124sZmlsZQ%3D%3D?line=18'>19</a>\u001b[0m \u001b[39m# Calculate time differences between consecutive events\u001b[39;00m\n\u001b[0;32m     <a href='vscode-notebook-cell:/c%3A/Users/alext/OneDrive/Desktop/week0_starter_network_analysis/Day2_Data-Science-Component-building/Tuseday_Challenge__Day2.ipynb#Y124sZmlsZQ%3D%3D?line=19'>20</a>\u001b[0m df[\u001b[39m'\u001b[39m\u001b[39mtime_diff\u001b[39m\u001b[39m'\u001b[39m] \u001b[39m=\u001b[39m df\u001b[39m.\u001b[39mgroupby(\u001b[39m'\u001b[39m\u001b[39mevent_type\u001b[39m\u001b[39m'\u001b[39m)[\u001b[39m'\u001b[39m\u001b[39mtimestamp\u001b[39m\u001b[39m'\u001b[39m]\u001b[39m.\u001b[39mdiff()\n",
            "File \u001b[1;32mc:\\ProgramData\\anaconda3\\Lib\\site-packages\\pandas\\core\\frame.py:3761\u001b[0m, in \u001b[0;36mDataFrame.__getitem__\u001b[1;34m(self, key)\u001b[0m\n\u001b[0;32m   3759\u001b[0m \u001b[39mif\u001b[39;00m \u001b[39mself\u001b[39m\u001b[39m.\u001b[39mcolumns\u001b[39m.\u001b[39mnlevels \u001b[39m>\u001b[39m \u001b[39m1\u001b[39m:\n\u001b[0;32m   3760\u001b[0m     \u001b[39mreturn\u001b[39;00m \u001b[39mself\u001b[39m\u001b[39m.\u001b[39m_getitem_multilevel(key)\n\u001b[1;32m-> 3761\u001b[0m indexer \u001b[39m=\u001b[39m \u001b[39mself\u001b[39m\u001b[39m.\u001b[39mcolumns\u001b[39m.\u001b[39mget_loc(key)\n\u001b[0;32m   3762\u001b[0m \u001b[39mif\u001b[39;00m is_integer(indexer):\n\u001b[0;32m   3763\u001b[0m     indexer \u001b[39m=\u001b[39m [indexer]\n",
            "File \u001b[1;32mc:\\ProgramData\\anaconda3\\Lib\\site-packages\\pandas\\core\\indexes\\base.py:3655\u001b[0m, in \u001b[0;36mIndex.get_loc\u001b[1;34m(self, key)\u001b[0m\n\u001b[0;32m   3653\u001b[0m     \u001b[39mreturn\u001b[39;00m \u001b[39mself\u001b[39m\u001b[39m.\u001b[39m_engine\u001b[39m.\u001b[39mget_loc(casted_key)\n\u001b[0;32m   3654\u001b[0m \u001b[39mexcept\u001b[39;00m \u001b[39mKeyError\u001b[39;00m \u001b[39mas\u001b[39;00m err:\n\u001b[1;32m-> 3655\u001b[0m     \u001b[39mraise\u001b[39;00m \u001b[39mKeyError\u001b[39;00m(key) \u001b[39mfrom\u001b[39;00m \u001b[39merr\u001b[39;00m\n\u001b[0;32m   3656\u001b[0m \u001b[39mexcept\u001b[39;00m \u001b[39mTypeError\u001b[39;00m:\n\u001b[0;32m   3657\u001b[0m     \u001b[39m# If we have a listlike key, _check_indexing_error will raise\u001b[39;00m\n\u001b[0;32m   3658\u001b[0m     \u001b[39m#  InvalidIndexError. Otherwise we fall through and re-raise\u001b[39;00m\n\u001b[0;32m   3659\u001b[0m     \u001b[39m#  the TypeError.\u001b[39;00m\n\u001b[0;32m   3660\u001b[0m     \u001b[39mself\u001b[39m\u001b[39m.\u001b[39m_check_indexing_error(key)\n",
            "\u001b[1;31mKeyError\u001b[0m: 'your_actual_event_type_column_name'"
          ]
        }
      ],
      "source": [
        "import pandas as pd\n",
        "import matplotlib.pyplot as plt\n",
        "\n",
        "# Assuming 'timestamp' is the column containing timestamps\n",
        "# Load your DataFrame here\n",
        "# df = ...\n",
        "\n",
        "# Convert 'timestamp' column to datetime objects\n",
        "df['timestamp'] = pd.to_datetime(df['timestamp'])\n",
        "\n",
        "# Sort DataFrame by timestamp\n",
        "df.sort_values(by='timestamp', inplace=True)\n",
        "\n",
        "# Replace 'event_type' with the actual column name containing event types\n",
        "# If you don't have an 'event_type' column, you may need to replace it with the correct column name.\n",
        "# Replace 'your_actual_event_type_column_name' with the actual column name containing event types\n",
        "df['event_type'] = df['your_actual_event_type_column_name']\n",
        "\n",
        "# Calculate time differences between consecutive events\n",
        "df['time_diff'] = df.groupby('event_type')['timestamp'].diff()\n",
        "\n",
        "# Convert time differences to seconds\n",
        "df['time_diff_seconds'] = df['time_diff'].dt.total_seconds()\n",
        "\n",
        "# Plot histogram of time differences\n",
        "plt.figure(figsize=(10, 6))\n",
        "event_types = df['event_type'].unique()\n",
        "for event_type in event_types:\n",
        "    event_df = df[df['event_type'] == event_type]\n",
        "    plt.hist(event_df['time_diff_seconds'].dropna(), bins=50, edgecolor='black', alpha=0.7, label=event_type)\n",
        "\n",
        "plt.xlabel('Time Difference (seconds)')\n",
        "plt.ylabel('Frequency')\n",
        "plt.legend()\n",
        "plt.title('Time Difference Between Consecutive Events')\n",
        "plt.show()\n"
      ]
    },
    {
      "cell_type": "code",
      "execution_count": 74,
      "metadata": {},
      "outputs": [
        {
          "ename": "KeyError",
          "evalue": "'your_actual_event_type_column_name'",
          "output_type": "error",
          "traceback": [
            "\u001b[1;31m---------------------------------------------------------------------------\u001b[0m",
            "\u001b[1;31mKeyError\u001b[0m                                  Traceback (most recent call last)",
            "File \u001b[1;32mc:\\ProgramData\\anaconda3\\Lib\\site-packages\\pandas\\core\\indexes\\base.py:3653\u001b[0m, in \u001b[0;36mIndex.get_loc\u001b[1;34m(self, key)\u001b[0m\n\u001b[0;32m   3652\u001b[0m \u001b[39mtry\u001b[39;00m:\n\u001b[1;32m-> 3653\u001b[0m     \u001b[39mreturn\u001b[39;00m \u001b[39mself\u001b[39m\u001b[39m.\u001b[39m_engine\u001b[39m.\u001b[39mget_loc(casted_key)\n\u001b[0;32m   3654\u001b[0m \u001b[39mexcept\u001b[39;00m \u001b[39mKeyError\u001b[39;00m \u001b[39mas\u001b[39;00m err:\n",
            "File \u001b[1;32mc:\\ProgramData\\anaconda3\\Lib\\site-packages\\pandas\\_libs\\index.pyx:147\u001b[0m, in \u001b[0;36mpandas._libs.index.IndexEngine.get_loc\u001b[1;34m()\u001b[0m\n",
            "File \u001b[1;32mc:\\ProgramData\\anaconda3\\Lib\\site-packages\\pandas\\_libs\\index.pyx:176\u001b[0m, in \u001b[0;36mpandas._libs.index.IndexEngine.get_loc\u001b[1;34m()\u001b[0m\n",
            "File \u001b[1;32mpandas\\_libs\\hashtable_class_helper.pxi:7080\u001b[0m, in \u001b[0;36mpandas._libs.hashtable.PyObjectHashTable.get_item\u001b[1;34m()\u001b[0m\n",
            "File \u001b[1;32mpandas\\_libs\\hashtable_class_helper.pxi:7088\u001b[0m, in \u001b[0;36mpandas._libs.hashtable.PyObjectHashTable.get_item\u001b[1;34m()\u001b[0m\n",
            "\u001b[1;31mKeyError\u001b[0m: 'your_actual_event_type_column_name'",
            "\nThe above exception was the direct cause of the following exception:\n",
            "\u001b[1;31mKeyError\u001b[0m                                  Traceback (most recent call last)",
            "\u001b[1;32mc:\\Users\\alext\\OneDrive\\Desktop\\week0_starter_network_analysis\\Day2_Data-Science-Component-building\\Tuseday_Challenge__Day2.ipynb Cell 49\u001b[0m line \u001b[0;36m1\n\u001b[0;32m     <a href='vscode-notebook-cell:/c%3A/Users/alext/OneDrive/Desktop/week0_starter_network_analysis/Day2_Data-Science-Component-building/Tuseday_Challenge__Day2.ipynb#Y125sZmlsZQ%3D%3D?line=11'>12</a>\u001b[0m df\u001b[39m.\u001b[39msort_values(by\u001b[39m=\u001b[39m\u001b[39m'\u001b[39m\u001b[39mtimestamp\u001b[39m\u001b[39m'\u001b[39m, inplace\u001b[39m=\u001b[39m\u001b[39mTrue\u001b[39;00m)\n\u001b[0;32m     <a href='vscode-notebook-cell:/c%3A/Users/alext/OneDrive/Desktop/week0_starter_network_analysis/Day2_Data-Science-Component-building/Tuseday_Challenge__Day2.ipynb#Y125sZmlsZQ%3D%3D?line=13'>14</a>\u001b[0m \u001b[39m# Replace 'event_type' with the actual column name containing event types\u001b[39;00m\n\u001b[0;32m     <a href='vscode-notebook-cell:/c%3A/Users/alext/OneDrive/Desktop/week0_starter_network_analysis/Day2_Data-Science-Component-building/Tuseday_Challenge__Day2.ipynb#Y125sZmlsZQ%3D%3D?line=14'>15</a>\u001b[0m \u001b[39m# If you don't have an 'event_type' column, you may need to replace it with the correct column name.\u001b[39;00m\n\u001b[0;32m     <a href='vscode-notebook-cell:/c%3A/Users/alext/OneDrive/Desktop/week0_starter_network_analysis/Day2_Data-Science-Component-building/Tuseday_Challenge__Day2.ipynb#Y125sZmlsZQ%3D%3D?line=15'>16</a>\u001b[0m \u001b[39m# Replace 'your_actual_event_type_column_name' with the actual column name containing event types\u001b[39;00m\n\u001b[1;32m---> <a href='vscode-notebook-cell:/c%3A/Users/alext/OneDrive/Desktop/week0_starter_network_analysis/Day2_Data-Science-Component-building/Tuseday_Challenge__Day2.ipynb#Y125sZmlsZQ%3D%3D?line=16'>17</a>\u001b[0m df[\u001b[39m'\u001b[39m\u001b[39mevent_type\u001b[39m\u001b[39m'\u001b[39m] \u001b[39m=\u001b[39m df[\u001b[39m'\u001b[39m\u001b[39myour_actual_event_type_column_name\u001b[39m\u001b[39m'\u001b[39m]\n\u001b[0;32m     <a href='vscode-notebook-cell:/c%3A/Users/alext/OneDrive/Desktop/week0_starter_network_analysis/Day2_Data-Science-Component-building/Tuseday_Challenge__Day2.ipynb#Y125sZmlsZQ%3D%3D?line=18'>19</a>\u001b[0m \u001b[39m# Calculate time differences between consecutive events\u001b[39;00m\n\u001b[0;32m     <a href='vscode-notebook-cell:/c%3A/Users/alext/OneDrive/Desktop/week0_starter_network_analysis/Day2_Data-Science-Component-building/Tuseday_Challenge__Day2.ipynb#Y125sZmlsZQ%3D%3D?line=19'>20</a>\u001b[0m df[\u001b[39m'\u001b[39m\u001b[39mtime_diff\u001b[39m\u001b[39m'\u001b[39m] \u001b[39m=\u001b[39m df\u001b[39m.\u001b[39mgroupby(\u001b[39m'\u001b[39m\u001b[39mevent_type\u001b[39m\u001b[39m'\u001b[39m)[\u001b[39m'\u001b[39m\u001b[39mtimestamp\u001b[39m\u001b[39m'\u001b[39m]\u001b[39m.\u001b[39mdiff()\n",
            "File \u001b[1;32mc:\\ProgramData\\anaconda3\\Lib\\site-packages\\pandas\\core\\frame.py:3761\u001b[0m, in \u001b[0;36mDataFrame.__getitem__\u001b[1;34m(self, key)\u001b[0m\n\u001b[0;32m   3759\u001b[0m \u001b[39mif\u001b[39;00m \u001b[39mself\u001b[39m\u001b[39m.\u001b[39mcolumns\u001b[39m.\u001b[39mnlevels \u001b[39m>\u001b[39m \u001b[39m1\u001b[39m:\n\u001b[0;32m   3760\u001b[0m     \u001b[39mreturn\u001b[39;00m \u001b[39mself\u001b[39m\u001b[39m.\u001b[39m_getitem_multilevel(key)\n\u001b[1;32m-> 3761\u001b[0m indexer \u001b[39m=\u001b[39m \u001b[39mself\u001b[39m\u001b[39m.\u001b[39mcolumns\u001b[39m.\u001b[39mget_loc(key)\n\u001b[0;32m   3762\u001b[0m \u001b[39mif\u001b[39;00m is_integer(indexer):\n\u001b[0;32m   3763\u001b[0m     indexer \u001b[39m=\u001b[39m [indexer]\n",
            "File \u001b[1;32mc:\\ProgramData\\anaconda3\\Lib\\site-packages\\pandas\\core\\indexes\\base.py:3655\u001b[0m, in \u001b[0;36mIndex.get_loc\u001b[1;34m(self, key)\u001b[0m\n\u001b[0;32m   3653\u001b[0m     \u001b[39mreturn\u001b[39;00m \u001b[39mself\u001b[39m\u001b[39m.\u001b[39m_engine\u001b[39m.\u001b[39mget_loc(casted_key)\n\u001b[0;32m   3654\u001b[0m \u001b[39mexcept\u001b[39;00m \u001b[39mKeyError\u001b[39;00m \u001b[39mas\u001b[39;00m err:\n\u001b[1;32m-> 3655\u001b[0m     \u001b[39mraise\u001b[39;00m \u001b[39mKeyError\u001b[39;00m(key) \u001b[39mfrom\u001b[39;00m \u001b[39merr\u001b[39;00m\n\u001b[0;32m   3656\u001b[0m \u001b[39mexcept\u001b[39;00m \u001b[39mTypeError\u001b[39;00m:\n\u001b[0;32m   3657\u001b[0m     \u001b[39m# If we have a listlike key, _check_indexing_error will raise\u001b[39;00m\n\u001b[0;32m   3658\u001b[0m     \u001b[39m#  InvalidIndexError. Otherwise we fall through and re-raise\u001b[39;00m\n\u001b[0;32m   3659\u001b[0m     \u001b[39m#  the TypeError.\u001b[39;00m\n\u001b[0;32m   3660\u001b[0m     \u001b[39mself\u001b[39m\u001b[39m.\u001b[39m_check_indexing_error(key)\n",
            "\u001b[1;31mKeyError\u001b[0m: 'your_actual_event_type_column_name'"
          ]
        }
      ],
      "source": [
        "import pandas as pd\n",
        "import matplotlib.pyplot as plt\n",
        "\n",
        "# Assuming 'timestamp' is the column containing timestamps\n",
        "# Load your DataFrame here\n",
        "# df = ...\n",
        "\n",
        "# Convert 'timestamp' column to datetime objects\n",
        "df['timestamp'] = pd.to_datetime(df['timestamp'])\n",
        "\n",
        "# Sort DataFrame by timestamp\n",
        "df.sort_values(by='timestamp', inplace=True)\n",
        "\n",
        "# Replace 'event_type' with the actual column name containing event types\n",
        "# If you don't have an 'event_type' column, you may need to replace it with the correct column name.\n",
        "# Replace 'your_actual_event_type_column_name' with the actual column name containing event types\n",
        "df['event_type'] = df['your_actual_event_type_column_name']\n",
        "\n",
        "# Calculate time differences between consecutive events\n",
        "df['time_diff'] = df.groupby('event_type')['timestamp'].diff()\n",
        "\n",
        "# Convert time differences to seconds\n",
        "df['time_diff_seconds'] = df['time_diff'].dt.total_seconds()\n",
        "\n",
        "# Plot histogram of time differences\n",
        "plt.figure(figsize=(10, 6))\n",
        "event_types = df['event_type'].unique()\n",
        "for event_type in event_types:\n",
        "    event_df = df[df['event_type'] == event_type]\n",
        "    plt.hist(event_df['time_diff_seconds'].dropna(), bins=50, edgecolor='black', alpha=0.7, label=event_type)\n",
        "\n",
        "plt.xlabel('Time Difference (seconds)')\n",
        "plt.ylabel('Frequency')\n",
        "plt.legend()\n",
        "plt.title('Time Difference Between Consecutive Events')\n",
        "plt.show()\n"
      ]
    },
    {
      "cell_type": "code",
      "execution_count": 75,
      "metadata": {},
      "outputs": [
        {
          "ename": "KeyError",
          "evalue": "'your_actual_event_type_column_name'",
          "output_type": "error",
          "traceback": [
            "\u001b[1;31m---------------------------------------------------------------------------\u001b[0m",
            "\u001b[1;31mKeyError\u001b[0m                                  Traceback (most recent call last)",
            "File \u001b[1;32mc:\\ProgramData\\anaconda3\\Lib\\site-packages\\pandas\\core\\indexes\\base.py:3653\u001b[0m, in \u001b[0;36mIndex.get_loc\u001b[1;34m(self, key)\u001b[0m\n\u001b[0;32m   3652\u001b[0m \u001b[39mtry\u001b[39;00m:\n\u001b[1;32m-> 3653\u001b[0m     \u001b[39mreturn\u001b[39;00m \u001b[39mself\u001b[39m\u001b[39m.\u001b[39m_engine\u001b[39m.\u001b[39mget_loc(casted_key)\n\u001b[0;32m   3654\u001b[0m \u001b[39mexcept\u001b[39;00m \u001b[39mKeyError\u001b[39;00m \u001b[39mas\u001b[39;00m err:\n",
            "File \u001b[1;32mc:\\ProgramData\\anaconda3\\Lib\\site-packages\\pandas\\_libs\\index.pyx:147\u001b[0m, in \u001b[0;36mpandas._libs.index.IndexEngine.get_loc\u001b[1;34m()\u001b[0m\n",
            "File \u001b[1;32mc:\\ProgramData\\anaconda3\\Lib\\site-packages\\pandas\\_libs\\index.pyx:176\u001b[0m, in \u001b[0;36mpandas._libs.index.IndexEngine.get_loc\u001b[1;34m()\u001b[0m\n",
            "File \u001b[1;32mpandas\\_libs\\hashtable_class_helper.pxi:7080\u001b[0m, in \u001b[0;36mpandas._libs.hashtable.PyObjectHashTable.get_item\u001b[1;34m()\u001b[0m\n",
            "File \u001b[1;32mpandas\\_libs\\hashtable_class_helper.pxi:7088\u001b[0m, in \u001b[0;36mpandas._libs.hashtable.PyObjectHashTable.get_item\u001b[1;34m()\u001b[0m\n",
            "\u001b[1;31mKeyError\u001b[0m: 'your_actual_event_type_column_name'",
            "\nThe above exception was the direct cause of the following exception:\n",
            "\u001b[1;31mKeyError\u001b[0m                                  Traceback (most recent call last)",
            "\u001b[1;32mc:\\Users\\alext\\OneDrive\\Desktop\\week0_starter_network_analysis\\Day2_Data-Science-Component-building\\Tuseday_Challenge__Day2.ipynb Cell 50\u001b[0m line \u001b[0;36m1\n\u001b[0;32m      <a href='vscode-notebook-cell:/c%3A/Users/alext/OneDrive/Desktop/week0_starter_network_analysis/Day2_Data-Science-Component-building/Tuseday_Challenge__Day2.ipynb#Y126sZmlsZQ%3D%3D?line=8'>9</a>\u001b[0m df\u001b[39m.\u001b[39msort_values(by\u001b[39m=\u001b[39m\u001b[39m'\u001b[39m\u001b[39mtimestamp\u001b[39m\u001b[39m'\u001b[39m, inplace\u001b[39m=\u001b[39m\u001b[39mTrue\u001b[39;00m)\n\u001b[0;32m     <a href='vscode-notebook-cell:/c%3A/Users/alext/OneDrive/Desktop/week0_starter_network_analysis/Day2_Data-Science-Component-building/Tuseday_Challenge__Day2.ipynb#Y126sZmlsZQ%3D%3D?line=10'>11</a>\u001b[0m \u001b[39m# Replace 'your_actual_event_type_column_name' with the actual column name containing event types\u001b[39;00m\n\u001b[1;32m---> <a href='vscode-notebook-cell:/c%3A/Users/alext/OneDrive/Desktop/week0_starter_network_analysis/Day2_Data-Science-Component-building/Tuseday_Challenge__Day2.ipynb#Y126sZmlsZQ%3D%3D?line=11'>12</a>\u001b[0m df[\u001b[39m'\u001b[39m\u001b[39mevent_type\u001b[39m\u001b[39m'\u001b[39m] \u001b[39m=\u001b[39m df[\u001b[39m'\u001b[39m\u001b[39myour_actual_event_type_column_name\u001b[39m\u001b[39m'\u001b[39m]\n\u001b[0;32m     <a href='vscode-notebook-cell:/c%3A/Users/alext/OneDrive/Desktop/week0_starter_network_analysis/Day2_Data-Science-Component-building/Tuseday_Challenge__Day2.ipynb#Y126sZmlsZQ%3D%3D?line=13'>14</a>\u001b[0m \u001b[39m# Calculate time differences between consecutive events\u001b[39;00m\n\u001b[0;32m     <a href='vscode-notebook-cell:/c%3A/Users/alext/OneDrive/Desktop/week0_starter_network_analysis/Day2_Data-Science-Component-building/Tuseday_Challenge__Day2.ipynb#Y126sZmlsZQ%3D%3D?line=14'>15</a>\u001b[0m df[\u001b[39m'\u001b[39m\u001b[39mtime_diff\u001b[39m\u001b[39m'\u001b[39m] \u001b[39m=\u001b[39m df\u001b[39m.\u001b[39mgroupby(\u001b[39m'\u001b[39m\u001b[39mevent_type\u001b[39m\u001b[39m'\u001b[39m)[\u001b[39m'\u001b[39m\u001b[39mtimestamp\u001b[39m\u001b[39m'\u001b[39m]\u001b[39m.\u001b[39mdiff()\n",
            "File \u001b[1;32mc:\\ProgramData\\anaconda3\\Lib\\site-packages\\pandas\\core\\frame.py:3761\u001b[0m, in \u001b[0;36mDataFrame.__getitem__\u001b[1;34m(self, key)\u001b[0m\n\u001b[0;32m   3759\u001b[0m \u001b[39mif\u001b[39;00m \u001b[39mself\u001b[39m\u001b[39m.\u001b[39mcolumns\u001b[39m.\u001b[39mnlevels \u001b[39m>\u001b[39m \u001b[39m1\u001b[39m:\n\u001b[0;32m   3760\u001b[0m     \u001b[39mreturn\u001b[39;00m \u001b[39mself\u001b[39m\u001b[39m.\u001b[39m_getitem_multilevel(key)\n\u001b[1;32m-> 3761\u001b[0m indexer \u001b[39m=\u001b[39m \u001b[39mself\u001b[39m\u001b[39m.\u001b[39mcolumns\u001b[39m.\u001b[39mget_loc(key)\n\u001b[0;32m   3762\u001b[0m \u001b[39mif\u001b[39;00m is_integer(indexer):\n\u001b[0;32m   3763\u001b[0m     indexer \u001b[39m=\u001b[39m [indexer]\n",
            "File \u001b[1;32mc:\\ProgramData\\anaconda3\\Lib\\site-packages\\pandas\\core\\indexes\\base.py:3655\u001b[0m, in \u001b[0;36mIndex.get_loc\u001b[1;34m(self, key)\u001b[0m\n\u001b[0;32m   3653\u001b[0m     \u001b[39mreturn\u001b[39;00m \u001b[39mself\u001b[39m\u001b[39m.\u001b[39m_engine\u001b[39m.\u001b[39mget_loc(casted_key)\n\u001b[0;32m   3654\u001b[0m \u001b[39mexcept\u001b[39;00m \u001b[39mKeyError\u001b[39;00m \u001b[39mas\u001b[39;00m err:\n\u001b[1;32m-> 3655\u001b[0m     \u001b[39mraise\u001b[39;00m \u001b[39mKeyError\u001b[39;00m(key) \u001b[39mfrom\u001b[39;00m \u001b[39merr\u001b[39;00m\n\u001b[0;32m   3656\u001b[0m \u001b[39mexcept\u001b[39;00m \u001b[39mTypeError\u001b[39;00m:\n\u001b[0;32m   3657\u001b[0m     \u001b[39m# If we have a listlike key, _check_indexing_error will raise\u001b[39;00m\n\u001b[0;32m   3658\u001b[0m     \u001b[39m#  InvalidIndexError. Otherwise we fall through and re-raise\u001b[39;00m\n\u001b[0;32m   3659\u001b[0m     \u001b[39m#  the TypeError.\u001b[39;00m\n\u001b[0;32m   3660\u001b[0m     \u001b[39mself\u001b[39m\u001b[39m.\u001b[39m_check_indexing_error(key)\n",
            "\u001b[1;31mKeyError\u001b[0m: 'your_actual_event_type_column_name'"
          ]
        }
      ],
      "source": [
        "# Assuming 'timestamp' is the column containing timestamps\n",
        "# Load your DataFrame here\n",
        "# df = ...\n",
        "\n",
        "# Convert 'timestamp' column to datetime objects\n",
        "df['timestamp'] = pd.to_datetime(df['timestamp'])\n",
        "\n",
        "# Sort DataFrame by timestamp\n",
        "df.sort_values(by='timestamp', inplace=True)\n",
        "\n",
        "# Replace 'your_actual_event_type_column_name' with the actual column name containing event types\n",
        "df['event_type'] = df['your_actual_event_type_column_name']\n",
        "\n",
        "# Calculate time differences between consecutive events\n",
        "df['time_diff'] = df.groupby('event_type')['timestamp'].diff()\n",
        "\n",
        "# Convert time differences to seconds\n",
        "df['time_diff_seconds'] = df['time_diff'].dt.total_seconds()\n",
        "\n",
        "# Plot histogram of time differences\n",
        "plt.figure(figsize=(10, 6))\n",
        "event_types = df['event_type'].unique()\n",
        "for event_type in event_types:\n",
        "    event_df = df[df['event_type'] == event_type]\n",
        "    plt.hist(event_df['time_diff_seconds'].dropna(), bins=50, edgecolor='black', alpha=0.7, label=event_type)\n",
        "\n",
        "plt.xlabel('Time Difference (seconds)')\n",
        "plt.ylabel('Frequency')\n",
        "plt.legend()\n",
        "plt.title('Time Difference Between Consecutive Events')\n",
        "plt.show()\n"
      ]
    },
    {
      "cell_type": "code",
      "execution_count": 77,
      "metadata": {},
      "outputs": [
        {
          "ename": "KeyError",
          "evalue": "'your_actual_event_type_column_name'",
          "output_type": "error",
          "traceback": [
            "\u001b[1;31m---------------------------------------------------------------------------\u001b[0m",
            "\u001b[1;31mKeyError\u001b[0m                                  Traceback (most recent call last)",
            "File \u001b[1;32mc:\\ProgramData\\anaconda3\\Lib\\site-packages\\pandas\\core\\indexes\\base.py:3653\u001b[0m, in \u001b[0;36mIndex.get_loc\u001b[1;34m(self, key)\u001b[0m\n\u001b[0;32m   3652\u001b[0m \u001b[39mtry\u001b[39;00m:\n\u001b[1;32m-> 3653\u001b[0m     \u001b[39mreturn\u001b[39;00m \u001b[39mself\u001b[39m\u001b[39m.\u001b[39m_engine\u001b[39m.\u001b[39mget_loc(casted_key)\n\u001b[0;32m   3654\u001b[0m \u001b[39mexcept\u001b[39;00m \u001b[39mKeyError\u001b[39;00m \u001b[39mas\u001b[39;00m err:\n",
            "File \u001b[1;32mc:\\ProgramData\\anaconda3\\Lib\\site-packages\\pandas\\_libs\\index.pyx:147\u001b[0m, in \u001b[0;36mpandas._libs.index.IndexEngine.get_loc\u001b[1;34m()\u001b[0m\n",
            "File \u001b[1;32mc:\\ProgramData\\anaconda3\\Lib\\site-packages\\pandas\\_libs\\index.pyx:176\u001b[0m, in \u001b[0;36mpandas._libs.index.IndexEngine.get_loc\u001b[1;34m()\u001b[0m\n",
            "File \u001b[1;32mpandas\\_libs\\hashtable_class_helper.pxi:7080\u001b[0m, in \u001b[0;36mpandas._libs.hashtable.PyObjectHashTable.get_item\u001b[1;34m()\u001b[0m\n",
            "File \u001b[1;32mpandas\\_libs\\hashtable_class_helper.pxi:7088\u001b[0m, in \u001b[0;36mpandas._libs.hashtable.PyObjectHashTable.get_item\u001b[1;34m()\u001b[0m\n",
            "\u001b[1;31mKeyError\u001b[0m: 'your_actual_event_type_column_name'",
            "\nThe above exception was the direct cause of the following exception:\n",
            "\u001b[1;31mKeyError\u001b[0m                                  Traceback (most recent call last)",
            "\u001b[1;32mc:\\Users\\alext\\OneDrive\\Desktop\\week0_starter_network_analysis\\Day2_Data-Science-Component-building\\Tuseday_Challenge__Day2.ipynb Cell 51\u001b[0m line \u001b[0;36m1\n\u001b[0;32m      <a href='vscode-notebook-cell:/c%3A/Users/alext/OneDrive/Desktop/week0_starter_network_analysis/Day2_Data-Science-Component-building/Tuseday_Challenge__Day2.ipynb#Y130sZmlsZQ%3D%3D?line=8'>9</a>\u001b[0m df\u001b[39m.\u001b[39msort_values(by\u001b[39m=\u001b[39m\u001b[39m'\u001b[39m\u001b[39mtimestamp\u001b[39m\u001b[39m'\u001b[39m, inplace\u001b[39m=\u001b[39m\u001b[39mTrue\u001b[39;00m)\n\u001b[0;32m     <a href='vscode-notebook-cell:/c%3A/Users/alext/OneDrive/Desktop/week0_starter_network_analysis/Day2_Data-Science-Component-building/Tuseday_Challenge__Day2.ipynb#Y130sZmlsZQ%3D%3D?line=10'>11</a>\u001b[0m \u001b[39m# Replace 'your_actual_event_type_column_name' with the actual column name containing event types\u001b[39;00m\n\u001b[0;32m     <a href='vscode-notebook-cell:/c%3A/Users/alext/OneDrive/Desktop/week0_starter_network_analysis/Day2_Data-Science-Component-building/Tuseday_Challenge__Day2.ipynb#Y130sZmlsZQ%3D%3D?line=11'>12</a>\u001b[0m \u001b[39m# If your column name contains spaces or special characters, ensure it is enclosed in double square brackets, like df[['your actual column name']]\u001b[39;00m\n\u001b[1;32m---> <a href='vscode-notebook-cell:/c%3A/Users/alext/OneDrive/Desktop/week0_starter_network_analysis/Day2_Data-Science-Component-building/Tuseday_Challenge__Day2.ipynb#Y130sZmlsZQ%3D%3D?line=12'>13</a>\u001b[0m df[\u001b[39m'\u001b[39m\u001b[39mevent_type\u001b[39m\u001b[39m'\u001b[39m] \u001b[39m=\u001b[39m df[\u001b[39m'\u001b[39m\u001b[39myour_actual_event_type_column_name\u001b[39m\u001b[39m'\u001b[39m]\n\u001b[0;32m     <a href='vscode-notebook-cell:/c%3A/Users/alext/OneDrive/Desktop/week0_starter_network_analysis/Day2_Data-Science-Component-building/Tuseday_Challenge__Day2.ipynb#Y130sZmlsZQ%3D%3D?line=14'>15</a>\u001b[0m \u001b[39m# Calculate time differences between consecutive events\u001b[39;00m\n\u001b[0;32m     <a href='vscode-notebook-cell:/c%3A/Users/alext/OneDrive/Desktop/week0_starter_network_analysis/Day2_Data-Science-Component-building/Tuseday_Challenge__Day2.ipynb#Y130sZmlsZQ%3D%3D?line=15'>16</a>\u001b[0m df[\u001b[39m'\u001b[39m\u001b[39mtime_diff\u001b[39m\u001b[39m'\u001b[39m] \u001b[39m=\u001b[39m df\u001b[39m.\u001b[39mgroupby(\u001b[39m'\u001b[39m\u001b[39mevent_type\u001b[39m\u001b[39m'\u001b[39m)[\u001b[39m'\u001b[39m\u001b[39mtimestamp\u001b[39m\u001b[39m'\u001b[39m]\u001b[39m.\u001b[39mdiff()\n",
            "File \u001b[1;32mc:\\ProgramData\\anaconda3\\Lib\\site-packages\\pandas\\core\\frame.py:3761\u001b[0m, in \u001b[0;36mDataFrame.__getitem__\u001b[1;34m(self, key)\u001b[0m\n\u001b[0;32m   3759\u001b[0m \u001b[39mif\u001b[39;00m \u001b[39mself\u001b[39m\u001b[39m.\u001b[39mcolumns\u001b[39m.\u001b[39mnlevels \u001b[39m>\u001b[39m \u001b[39m1\u001b[39m:\n\u001b[0;32m   3760\u001b[0m     \u001b[39mreturn\u001b[39;00m \u001b[39mself\u001b[39m\u001b[39m.\u001b[39m_getitem_multilevel(key)\n\u001b[1;32m-> 3761\u001b[0m indexer \u001b[39m=\u001b[39m \u001b[39mself\u001b[39m\u001b[39m.\u001b[39mcolumns\u001b[39m.\u001b[39mget_loc(key)\n\u001b[0;32m   3762\u001b[0m \u001b[39mif\u001b[39;00m is_integer(indexer):\n\u001b[0;32m   3763\u001b[0m     indexer \u001b[39m=\u001b[39m [indexer]\n",
            "File \u001b[1;32mc:\\ProgramData\\anaconda3\\Lib\\site-packages\\pandas\\core\\indexes\\base.py:3655\u001b[0m, in \u001b[0;36mIndex.get_loc\u001b[1;34m(self, key)\u001b[0m\n\u001b[0;32m   3653\u001b[0m     \u001b[39mreturn\u001b[39;00m \u001b[39mself\u001b[39m\u001b[39m.\u001b[39m_engine\u001b[39m.\u001b[39mget_loc(casted_key)\n\u001b[0;32m   3654\u001b[0m \u001b[39mexcept\u001b[39;00m \u001b[39mKeyError\u001b[39;00m \u001b[39mas\u001b[39;00m err:\n\u001b[1;32m-> 3655\u001b[0m     \u001b[39mraise\u001b[39;00m \u001b[39mKeyError\u001b[39;00m(key) \u001b[39mfrom\u001b[39;00m \u001b[39merr\u001b[39;00m\n\u001b[0;32m   3656\u001b[0m \u001b[39mexcept\u001b[39;00m \u001b[39mTypeError\u001b[39;00m:\n\u001b[0;32m   3657\u001b[0m     \u001b[39m# If we have a listlike key, _check_indexing_error will raise\u001b[39;00m\n\u001b[0;32m   3658\u001b[0m     \u001b[39m#  InvalidIndexError. Otherwise we fall through and re-raise\u001b[39;00m\n\u001b[0;32m   3659\u001b[0m     \u001b[39m#  the TypeError.\u001b[39;00m\n\u001b[0;32m   3660\u001b[0m     \u001b[39mself\u001b[39m\u001b[39m.\u001b[39m_check_indexing_error(key)\n",
            "\u001b[1;31mKeyError\u001b[0m: 'your_actual_event_type_column_name'"
          ]
        }
      ],
      "source": [
        "# Assuming 'timestamp' is the column containing timestamps\n",
        "# Load your DataFrame here\n",
        "# df = ...\n",
        "\n",
        "# Convert 'timestamp' column to datetime objects\n",
        "df['timestamp'] = pd.to_datetime(df['timestamp'])\n",
        "\n",
        "# Sort DataFrame by timestamp\n",
        "df.sort_values(by='timestamp', inplace=True)\n",
        "\n",
        "# Replace 'your_actual_event_type_column_name' with the actual column name containing event types\n",
        "# If your column name contains spaces or special characters, ensure it is enclosed in double square brackets, like df[['your actual column name']]\n",
        "df['event_type'] = df['your_actual_event_type_column_name']\n",
        "\n",
        "# Calculate time differences between consecutive events\n",
        "df['time_diff'] = df.groupby('event_type')['timestamp'].diff()\n",
        "\n",
        "# Convert time differences to seconds\n",
        "df['time_diff_seconds'] = df['time_diff'].dt.total_seconds()\n",
        "\n",
        "# Plot histogram of time differences\n",
        "plt.figure(figsize=(10, 6))\n",
        "event_types = df['event_type'].unique()\n",
        "for event_type in event_types:\n",
        "    event_df = df[df['event_type'] == event_type]\n",
        "    plt.hist(event_df['time_diff_seconds'].dropna(), bins=50, edgecolor='black', alpha=0.7, label=event_type)\n",
        "\n",
        "plt.xlabel('Time Difference (seconds)')\n",
        "plt.ylabel('Frequency')\n",
        "plt.legend()\n",
        "plt.title('Time Difference Between Consecutive Events')\n",
        "plt.show()\n"
      ]
    },
    {
      "cell_type": "code",
      "execution_count": 78,
      "metadata": {},
      "outputs": [
        {
          "name": "stdout",
          "output_type": "stream",
          "text": [
            "Index(['created_at', 'source', 'original_text', 'clean_text', 'sentiment',\n",
            "       'polarity', 'subjectivity', 'lang', 'favorite_count', 'retweet_count',\n",
            "       'original_author', 'screen_count', 'followers_count', 'friends_count',\n",
            "       'possibly_sensitive', 'hashtags', 'user_mentions', 'place',\n",
            "       'place_coord_boundaries', 'timestamp', 'time_diff', 'time_diff_seconds',\n",
            "       'event_type', 'column'],\n",
            "      dtype='object')\n"
          ]
        }
      ],
      "source": [
        "print(df.columns)\n"
      ]
    },
    {
      "cell_type": "code",
      "execution_count": 82,
      "metadata": {},
      "outputs": [
        {
          "data": {
            "image/png": "[encoded data removed]",
            "text/plain": [
              "<Figure size 1000x600 with 1 Axes>"
            ]
          },
          "metadata": {},
          "output_type": "display_data"
        }
      ],
      "source": [
        "import pandas as pd\n",
        "import matplotlib.pyplot as plt\n",
        "\n",
        "# Assuming 'timestamp' is the column containing timestamps\n",
        "# Load your DataFrame here\n",
        "# df = ...\n",
        "\n",
        "# Convert 'timestamp' column to datetime objects\n",
        "df['timestamp'] = pd.to_datetime(df['timestamp'])\n",
        "\n",
        "# Sort DataFrame by timestamp\n",
        "df.sort_values(by='timestamp', inplace=True)\n",
        "\n",
        "# Replace 'column' with the actual column name containing event types\n",
        "# If you don't have a 'column' column, you may need to replace it with the correct column name.\n",
        "df['event_type'] = df['column'].astype(str)\n",
        "\n",
        "# Calculate time differences between consecutive events\n",
        "df['time_diff'] = df.groupby('event_type')['timestamp'].diff()\n",
        "\n",
        "# Convert time differences to seconds\n",
        "df['time_diff_seconds'] = df['time_diff'].dt.total_seconds()\n",
        "\n",
        "# Plot histogram of time differences\n",
        "plt.figure(figsize=(10, 6))\n",
        "event_types = df['event_type'].unique()\n",
        "for event_type in event_types:\n",
        "    event_df = df[df['event_type'] == event_type]\n",
        "    plt.hist(event_df['time_diff_seconds'].dropna(), bins=50, edgecolor='black', alpha=0.7, label=event_type)\n",
        "\n",
        "plt.xlabel('Time Difference (seconds)')\n",
        "plt.ylabel('Frequency')\n",
        "plt.legend()\n",
        "plt.title('Time Difference Between Consecutive Events')\n",
        "plt.show()\n"
      ]
    },
    {
      "cell_type": "code",
      "execution_count": null,
      "metadata": {},
      "outputs": [],
      "source": []
    }
  ],
  "metadata": {
    "colab": {
      "provenance": []
    },
    "kernelspec": {
      "display_name": "Python 3",
      "name": "python3"
    },
    "language_info": {
      "codemirror_mode": {
        "name": "ipython",
        "version": 3
      },
      "file_extension": ".py",
      "mimetype": "text/x-python",
      "name": "python",
      "nbconvert_exporter": "python",
      "pygments_lexer": "ipython3",
      "version": "3.11.5"
    }
  },
  "nbformat": 4,
  "nbformat_minor": 0
}
